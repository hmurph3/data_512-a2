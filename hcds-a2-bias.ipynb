{
 "cells": [
  {
   "cell_type": "markdown",
   "metadata": {},
   "source": [
    "# A2 - Bias in English Wikipedia Articles"
   ]
  },
  {
   "cell_type": "markdown",
   "metadata": {},
   "source": [
    "This assignment is to assess the biases in English Wikipedia. More information on this assignment can be found here: https://wiki.communitydata.cc/Human_Centered_Data_Science_(Fall_2018)/Assignments#A2:_Bias_in_data"
   ]
  },
  {
   "cell_type": "code",
   "execution_count": 1,
   "metadata": {},
   "outputs": [],
   "source": [
    "# Imports for code\n",
    "import requests\n",
    "import json\n",
    "# import csv\n",
    "import pandas as pd"
   ]
  },
  {
   "cell_type": "markdown",
   "metadata": {},
   "source": [
    "## Gather the Data"
   ]
  },
  {
   "cell_type": "markdown",
   "metadata": {},
   "source": [
    "To use the ORES API, I used the code below. I got this code from the repository here: https://github.com/Ironholds/data-512-a2\n",
    "\n",
    "The code is from this Python Notebook: https://github.com/Ironholds/data-512-a2/blob/master/hcds-a2-bias_demo.ipynb"
   ]
  },
  {
   "cell_type": "code",
   "execution_count": 3,
   "metadata": {},
   "outputs": [],
   "source": [
    "# Customize these with your own information by replacing \"hmurph3\"\n",
    "headers = {\n",
    "    'User-Agent': 'https://github.com/hmurph3',\n",
    "    'From': 'hmurph3@uw.edu'\n",
    "}\n",
    "\n",
    "def get_ores_data(revision_ids, headers):\n",
    "    \n",
    "    # Define the endpoint\n",
    "    endpoint = 'https://ores.wikimedia.org/v3/scores/{project}/?models={model}&revids={revids}'\n",
    "    \n",
    "    # Specify the parameters - smushing all the revision IDs together separated by | marks.\n",
    "    # Yes, 'smush' is a technical term, trust me I'm a scientist.\n",
    "    # What do you mean \"but people trusting scientists regularly goes horribly wrong\" who taught you tha- oh.  \n",
    "    params = {'project' : 'enwiki',\n",
    "              'model'   : 'wp10',\n",
    "              'revids'  : '|'.join(str(x) for x in revision_ids)\n",
    "              }\n",
    "    api_call = requests.get(endpoint.format(**params))\n",
    "    response = api_call.json()\n",
    "    #print(json.dumps(response, indent=4, sort_keys=True)) \n",
    "    \n",
    "    #I decided to comment the print so the function returned something instead of printing it out\n",
    "    return response\n",
    "\n",
    "\n",
    "# So if we grab some example revision IDs and turn them into a list and then call get_ores_data...\n",
    "example_ids = [783381498, 807355596, 757539710]\n",
    "example_call= get_ores_data(example_ids, headers)"
   ]
  },
  {
   "cell_type": "code",
   "execution_count": 4,
   "metadata": {},
   "outputs": [
    {
     "name": "stdout",
     "output_type": "stream",
     "text": [
      "{'enwiki': {'models': {'wp10': {'version': '0.6.1'}}, 'scores': {'757539710': {'wp10': {'score': {'prediction': 'Start', 'probability': {'B': 0.05635270475191951, 'C': 0.17635417131683803, 'FA': 0.001919869734464717, 'GA': 0.005517075264277984, 'Start': 0.732764644204933, 'Stub': 0.027091534727566813}}}}, '783381498': {'wp10': {'score': {'prediction': 'Start', 'probability': {'B': 0.039498449850621085, 'C': 0.06068466061111685, 'FA': 0.0029057427468351755, 'GA': 0.007477221115409147, 'Start': 0.5674464916024892, 'Stub': 0.3219874340735285}}}}, '807355596': {'wp10': {'score': {'prediction': 'Start', 'probability': {'B': 0.04566408685167919, 'C': 0.10144128886317841, 'FA': 0.002651239009002438, 'GA': 0.006433022662730785, 'Start': 0.7675063182740381, 'Stub': 0.07630404433937113}}}}}}}\n"
     ]
    }
   ],
   "source": [
    "print(example_call)"
   ]
  },
  {
   "cell_type": "markdown",
   "metadata": {},
   "source": [
    "I now need to read in the csv files `page_data.csv` and `WPDS_2018_data.csv` as tables.  \n",
    "I used the **pandas.read_csv()**"
   ]
  },
  {
   "cell_type": "code",
   "execution_count": 70,
   "metadata": {},
   "outputs": [],
   "source": [
    "page_data = pd.read_csv('page_data.csv', sep = ',', header = 0)\n",
    "wpds_2018 = pd.read_csv('WPDS_2018_data.csv', sep = ',', thousands=',', header = 0) # population has commas"
   ]
  },
  {
   "cell_type": "code",
   "execution_count": 71,
   "metadata": {},
   "outputs": [
    {
     "data": {
      "text/html": [
       "<div>\n",
       "<style scoped>\n",
       "    .dataframe tbody tr th:only-of-type {\n",
       "        vertical-align: middle;\n",
       "    }\n",
       "\n",
       "    .dataframe tbody tr th {\n",
       "        vertical-align: top;\n",
       "    }\n",
       "\n",
       "    .dataframe thead th {\n",
       "        text-align: right;\n",
       "    }\n",
       "</style>\n",
       "<table border=\"1\" class=\"dataframe\">\n",
       "  <thead>\n",
       "    <tr style=\"text-align: right;\">\n",
       "      <th></th>\n",
       "      <th>page</th>\n",
       "      <th>country</th>\n",
       "      <th>rev_id</th>\n",
       "    </tr>\n",
       "  </thead>\n",
       "  <tbody>\n",
       "    <tr>\n",
       "      <th>0</th>\n",
       "      <td>Template:ZambiaProvincialMinisters</td>\n",
       "      <td>Zambia</td>\n",
       "      <td>235107991</td>\n",
       "    </tr>\n",
       "    <tr>\n",
       "      <th>1</th>\n",
       "      <td>Bir I of Kanem</td>\n",
       "      <td>Chad</td>\n",
       "      <td>355319463</td>\n",
       "    </tr>\n",
       "    <tr>\n",
       "      <th>2</th>\n",
       "      <td>Template:Zimbabwe-politician-stub</td>\n",
       "      <td>Zimbabwe</td>\n",
       "      <td>391862046</td>\n",
       "    </tr>\n",
       "    <tr>\n",
       "      <th>3</th>\n",
       "      <td>Template:Uganda-politician-stub</td>\n",
       "      <td>Uganda</td>\n",
       "      <td>391862070</td>\n",
       "    </tr>\n",
       "    <tr>\n",
       "      <th>4</th>\n",
       "      <td>Template:Namibia-politician-stub</td>\n",
       "      <td>Namibia</td>\n",
       "      <td>391862409</td>\n",
       "    </tr>\n",
       "  </tbody>\n",
       "</table>\n",
       "</div>"
      ],
      "text/plain": [
       "                                 page   country     rev_id\n",
       "0  Template:ZambiaProvincialMinisters    Zambia  235107991\n",
       "1                      Bir I of Kanem      Chad  355319463\n",
       "2   Template:Zimbabwe-politician-stub  Zimbabwe  391862046\n",
       "3     Template:Uganda-politician-stub    Uganda  391862070\n",
       "4    Template:Namibia-politician-stub   Namibia  391862409"
      ]
     },
     "execution_count": 71,
     "metadata": {},
     "output_type": "execute_result"
    }
   ],
   "source": [
    "page_data.head()"
   ]
  },
  {
   "cell_type": "code",
   "execution_count": 72,
   "metadata": {},
   "outputs": [
    {
     "data": {
      "text/html": [
       "<div>\n",
       "<style scoped>\n",
       "    .dataframe tbody tr th:only-of-type {\n",
       "        vertical-align: middle;\n",
       "    }\n",
       "\n",
       "    .dataframe tbody tr th {\n",
       "        vertical-align: top;\n",
       "    }\n",
       "\n",
       "    .dataframe thead th {\n",
       "        text-align: right;\n",
       "    }\n",
       "</style>\n",
       "<table border=\"1\" class=\"dataframe\">\n",
       "  <thead>\n",
       "    <tr style=\"text-align: right;\">\n",
       "      <th></th>\n",
       "      <th>Geography</th>\n",
       "      <th>Population mid-2018 (millions)</th>\n",
       "    </tr>\n",
       "  </thead>\n",
       "  <tbody>\n",
       "    <tr>\n",
       "      <th>0</th>\n",
       "      <td>AFRICA</td>\n",
       "      <td>1284.0</td>\n",
       "    </tr>\n",
       "    <tr>\n",
       "      <th>1</th>\n",
       "      <td>Algeria</td>\n",
       "      <td>42.7</td>\n",
       "    </tr>\n",
       "    <tr>\n",
       "      <th>2</th>\n",
       "      <td>Egypt</td>\n",
       "      <td>97.0</td>\n",
       "    </tr>\n",
       "    <tr>\n",
       "      <th>3</th>\n",
       "      <td>Libya</td>\n",
       "      <td>6.5</td>\n",
       "    </tr>\n",
       "    <tr>\n",
       "      <th>4</th>\n",
       "      <td>Morocco</td>\n",
       "      <td>35.2</td>\n",
       "    </tr>\n",
       "  </tbody>\n",
       "</table>\n",
       "</div>"
      ],
      "text/plain": [
       "  Geography  Population mid-2018 (millions)\n",
       "0    AFRICA                          1284.0\n",
       "1   Algeria                            42.7\n",
       "2     Egypt                            97.0\n",
       "3     Libya                             6.5\n",
       "4   Morocco                            35.2"
      ]
     },
     "execution_count": 72,
     "metadata": {},
     "output_type": "execute_result"
    }
   ],
   "source": [
    "wpds_2018.head()"
   ]
  },
  {
   "cell_type": "markdown",
   "metadata": {},
   "source": [
    "I now need to conver the *rev_id* in the `page_data` table into a list in order to use the **ORES API**."
   ]
  },
  {
   "cell_type": "code",
   "execution_count": 8,
   "metadata": {},
   "outputs": [],
   "source": [
    "rev_ids = page_data.iloc[:, 2].tolist()"
   ]
  },
  {
   "cell_type": "code",
   "execution_count": 9,
   "metadata": {
    "scrolled": true
   },
   "outputs": [
    {
     "name": "stdout",
     "output_type": "stream",
     "text": [
      "[235107991, 355319463, 391862046, 391862070, 391862409, 391862819, 391863340, 391863361, 391863617, 391863809]\n"
     ]
    }
   ],
   "source": [
    "print(rev_ids[0:10])"
   ]
  },
  {
   "cell_type": "markdown",
   "metadata": {},
   "source": [
    "I created a for-loop to gather all *rev_id* since **ORES** only allows 50 to 100 *rev_id* to be passed into the API query at once and saved it as a list of dictionaries."
   ]
  },
  {
   "cell_type": "code",
   "execution_count": 12,
   "metadata": {},
   "outputs": [],
   "source": [
    "# this part will take some time. I had to do ~ 1000 calls to the API.\n",
    "ores_query = []\n",
    "inc = 50\n",
    "start = 0\n",
    "end = len(rev_ids)\n",
    "\n",
    "for i in range(int(end/inc)+1):\n",
    "    if start + inc > end:\n",
    "        temp = get_ores_data(rev_ids[start: start + (end-start)], headers)\n",
    "    else:\n",
    "        temp = get_ores_data(rev_ids[start: start + inc], headers)\n",
    "    \n",
    "    ores_query.append(temp)\n",
    "    start += inc\n",
    "    "
   ]
  },
  {
   "cell_type": "code",
   "execution_count": 13,
   "metadata": {
    "scrolled": true
   },
   "outputs": [
    {
     "name": "stdout",
     "output_type": "stream",
     "text": [
      "{'enwiki': {'models': {'wp10': {'version': '0.6.1'}}, 'scores': {'235107991': {'wp10': {'error': {'message': 'RevisionNotFound: Could not find revision ({revision}:235107991)', 'type': 'RevisionNotFound'}}}, '355319463': {'wp10': {'score': {'prediction': 'Stub', 'probability': {'B': 0.0037293011286007372, 'C': 0.003856823065973545, 'FA': 0.0005009114577946061, 'GA': 0.0009278080381894021, 'Start': 0.008398482183096077, 'Stub': 0.9825866741263456}}}}, '391862046': {'wp10': {'score': {'prediction': 'Stub', 'probability': {'B': 0.00752908372935955, 'C': 0.011698750542107464, 'FA': 0.001217297276719427, 'GA': 0.0018271099726449593, 'Start': 0.12703001272170586, 'Stub': 0.8506977457574628}}}}, '391862070': {'wp10': {'score': {'prediction': 'Stub', 'probability': {'B': 0.007528602399161758, 'C': 0.011761932099515725, 'FA': 0.0012172194555714589, 'GA': 0.0018269931665054447, 'Start': 0.1270218917625896, 'Stub': 0.8506433611166563}}}}, '391862409': {'wp10': {'score': {'prediction': 'Stub', 'probability': {'B': 0.007958430970874009, 'C': 0.012253321701537543, 'FA': 0.0012797297965052574, 'GA': 0.0019208184542949486, 'Start': 0.13309327025182544, 'Stub': 0.843494428824963}}}}, '391862819': {'wp10': {'score': {'prediction': 'Stub', 'probability': {'B': 0.007958430970874009, 'C': 0.012253321701537543, 'FA': 0.0012797297965052574, 'GA': 0.0019208184542949486, 'Start': 0.13309327025182544, 'Stub': 0.843494428824963}}}}, '391863340': {'wp10': {'score': {'prediction': 'Stub', 'probability': {'B': 0.007958430970874009, 'C': 0.012253321701537543, 'FA': 0.0012797297965052574, 'GA': 0.0019208184542949486, 'Start': 0.13309327025182544, 'Stub': 0.843494428824963}}}}, '391863361': {'wp10': {'score': {'prediction': 'Stub', 'probability': {'B': 0.007957898076082623, 'C': 0.012319461002361975, 'FA': 0.0012796441060789103, 'GA': 0.0019206898367127596, 'Start': 0.1330843583556558, 'Stub': 0.8434379486231081}}}}, '391863617': {'wp10': {'score': {'prediction': 'Stub', 'probability': {'B': 0.007957898076082623, 'C': 0.012319461002361975, 'FA': 0.0012796441060789103, 'GA': 0.0019206898367127596, 'Start': 0.1330843583556558, 'Stub': 0.8434379486231081}}}}, '391863809': {'wp10': {'score': {'prediction': 'Stub', 'probability': {'B': 0.008024197217194854, 'C': 0.012290690898551187, 'FA': 0.0012836326137212481, 'GA': 0.0019266764122425476, 'Start': 0.13349916742472073, 'Stub': 0.8429756354335695}}}}, '393276188': {'wp10': {'score': {'prediction': 'Stub', 'probability': {'B': 0.0085673917799792, 'C': 0.008368820789631162, 'FA': 0.0008017130915481524, 'GA': 0.001780386727215207, 'Start': 0.05176560550147401, 'Stub': 0.9287160821101522}}}}, '393298432': {'wp10': {'score': {'prediction': 'Stub', 'probability': {'B': 0.007958430970874009, 'C': 0.012253321701537543, 'FA': 0.0012797297965052574, 'GA': 0.0019208184542949486, 'Start': 0.13309327025182544, 'Stub': 0.843494428824963}}}}, '393822005': {'wp10': {'score': {'prediction': 'Stub', 'probability': {'B': 0.021488920984905412, 'C': 0.023986338010416, 'FA': 0.0013114385466519716, 'GA': 0.0036291279205695713, 'Start': 0.24392964768627112, 'Stub': 0.7056545268511859}}}}, '394482629': {'wp10': {'score': {'prediction': 'Stub', 'probability': {'B': 0.007958430970874009, 'C': 0.012253321701537543, 'FA': 0.0012797297965052574, 'GA': 0.0019208184542949486, 'Start': 0.13309327025182544, 'Stub': 0.843494428824963}}}}, '394482891': {'wp10': {'score': {'prediction': 'Stub', 'probability': {'B': 0.007958430970874009, 'C': 0.012253321701537543, 'FA': 0.0012797297965052574, 'GA': 0.0019208184542949486, 'Start': 0.13309327025182544, 'Stub': 0.843494428824963}}}}, '394580295': {'wp10': {'score': {'prediction': 'Stub', 'probability': {'B': 0.007958430970874009, 'C': 0.012253321701537543, 'FA': 0.0012797297965052574, 'GA': 0.0019208184542949486, 'Start': 0.13309327025182544, 'Stub': 0.843494428824963}}}}, '394580630': {'wp10': {'score': {'prediction': 'Stub', 'probability': {'B': 0.00795498623108365, 'C': 0.012680859528777195, 'FA': 0.0012791758762454644, 'GA': 0.0019199870442112546, 'Start': 0.13303566195120142, 'Stub': 0.8431293293684807}}}}, '394580939': {'wp10': {'score': {'prediction': 'Stub', 'probability': {'B': 0.007957898076082623, 'C': 0.012319461002361975, 'FA': 0.0012796441060789103, 'GA': 0.0019206898367127596, 'Start': 0.1330843583556558, 'Stub': 0.8434379486231081}}}}, '394580993': {'wp10': {'score': {'prediction': 'Stub', 'probability': {'B': 0.008024197217194854, 'C': 0.012290690898551187, 'FA': 0.0012836326137212481, 'GA': 0.0019266764122425476, 'Start': 0.13349916742472073, 'Stub': 0.8429756354335695}}}}, '394581284': {'wp10': {'score': {'prediction': 'Stub', 'probability': {'B': 0.007957898076082623, 'C': 0.012319461002361975, 'FA': 0.0012796441060789103, 'GA': 0.0019206898367127596, 'Start': 0.1330843583556558, 'Stub': 0.8434379486231081}}}}, '394581557': {'wp10': {'score': {'prediction': 'Stub', 'probability': {'B': 0.007958430970874009, 'C': 0.012253321701537543, 'FA': 0.0012797297965052574, 'GA': 0.0019208184542949486, 'Start': 0.13309327025182544, 'Stub': 0.843494428824963}}}}, '394587483': {'wp10': {'score': {'prediction': 'Stub', 'probability': {'B': 0.00752908372935955, 'C': 0.011698750542107464, 'FA': 0.001217297276719427, 'GA': 0.0018271099726449593, 'Start': 0.12703001272170586, 'Stub': 0.8506977457574628}}}}, '394587547': {'wp10': {'score': {'prediction': 'Stub', 'probability': {'B': 0.007958430970874009, 'C': 0.012253321701537543, 'FA': 0.0012797297965052574, 'GA': 0.0019208184542949486, 'Start': 0.13309327025182544, 'Stub': 0.843494428824963}}}}, '395521877': {'wp10': {'score': {'prediction': 'Stub', 'probability': {'B': 0.006235927440399146, 'C': 0.0064114956306656964, 'FA': 0.0009173142984451422, 'GA': 0.0015725170942118502, 'Start': 0.06796727376778845, 'Stub': 0.9168954717684896}}}}, '395526568': {'wp10': {'score': {'prediction': 'Stub', 'probability': {'B': 0.006235927440399146, 'C': 0.0064114956306656964, 'FA': 0.0009173142984451422, 'GA': 0.0015725170942118502, 'Start': 0.06796727376778845, 'Stub': 0.9168954717684896}}}}, '401577829': {'wp10': {'score': {'prediction': 'Stub', 'probability': {'B': 0.003569214193115822, 'C': 0.003333636657404969, 'FA': 0.0004452014778183147, 'GA': 0.0008180453236411899, 'Start': 0.007695736316044267, 'Stub': 0.9841381660319757}}}}, '413885084': {'wp10': {'score': {'prediction': 'Stub', 'probability': {'B': 0.010079787712809788, 'C': 0.01500203085737421, 'FA': 0.0016003022934902432, 'GA': 0.0024157055688351662, 'Start': 0.28517501516260463, 'Stub': 0.6857271584048861}}}}, '433871129': {'wp10': {'score': {'prediction': 'Stub', 'probability': {'B': 0.00752908372935955, 'C': 0.011698750542107464, 'FA': 0.001217297276719427, 'GA': 0.0018271099726449593, 'Start': 0.12703001272170586, 'Stub': 0.8506977457574628}}}}, '433871165': {'wp10': {'score': {'prediction': 'Stub', 'probability': {'B': 0.007958430970874009, 'C': 0.012253321701537543, 'FA': 0.0012797297965052574, 'GA': 0.0019208184542949486, 'Start': 0.13309327025182544, 'Stub': 0.843494428824963}}}}, '435008715': {'wp10': {'score': {'prediction': 'Stub', 'probability': {'B': 0.00752908372935955, 'C': 0.011698750542107464, 'FA': 0.001217297276719427, 'GA': 0.0018271099726449593, 'Start': 0.12703001272170586, 'Stub': 0.8506977457574628}}}}, '437454659': {'wp10': {'score': {'prediction': 'Stub', 'probability': {'B': 0.009767878016849526, 'C': 0.014774483472799908, 'FA': 0.0015953913871969987, 'GA': 0.002356281450596829, 'Start': 0.2743991812989202, 'Stub': 0.6971067843736365}}}}, '437735138': {'wp10': {'score': {'prediction': 'Stub', 'probability': {'B': 0.007581664459717573, 'C': 0.011628167987075888, 'FA': 0.0012211826347900238, 'GA': 0.001838579207025105, 'Start': 0.12743546592904914, 'Stub': 0.8502949397823423}}}}, '438305657': {'wp10': {'score': {'prediction': 'Stub', 'probability': {'B': 0.007580889048209687, 'C': 0.011734890201082999, 'FA': 0.0012210577388554597, 'GA': 0.001832754261843581, 'Start': 0.12742243252097374, 'Stub': 0.8502079762290345}}}}, '439671509': {'wp10': {'score': {'prediction': 'Stub', 'probability': {'B': 0.007552558096302776, 'C': 0.011735225201292339, 'FA': 0.0012210925968380334, 'GA': 0.0018328065821508752, 'Start': 0.1274260700958328, 'Stub': 0.8502322474275833}}}}, '439708117': {'wp10': {'score': {'prediction': 'Stub', 'probability': {'B': 0.007552558096302776, 'C': 0.011735225201292339, 'FA': 0.0012210925968380334, 'GA': 0.0018328065821508752, 'Start': 0.1274260700958328, 'Stub': 0.8502322474275833}}}}, '440397578': {'wp10': {'score': {'prediction': 'Stub', 'probability': {'B': 0.007528602399161758, 'C': 0.011761932099515725, 'FA': 0.0012172194555714589, 'GA': 0.0018269931665054447, 'Start': 0.1270218917625896, 'Stub': 0.8506433611166563}}}}, '440594068': {'wp10': {'score': {'prediction': 'Stub', 'probability': {'B': 0.00758216437419195, 'C': 0.011562997418329331, 'FA': 0.0012212631562742208, 'GA': 0.0018387004379715236, 'Start': 0.12744386867943533, 'Stub': 0.8503510059337979}}}}, '440598656': {'wp10': {'score': {'prediction': 'Stub', 'probability': {'B': 0.007581664459717573, 'C': 0.011628167987075888, 'FA': 0.0012211826347900238, 'GA': 0.001838579207025105, 'Start': 0.12743546592904914, 'Stub': 0.8502949397823423}}}}, '441172886': {'wp10': {'score': {'prediction': 'Stub', 'probability': {'B': 0.00752908372935955, 'C': 0.011698750542107464, 'FA': 0.001217297276719427, 'GA': 0.0018271099726449593, 'Start': 0.12703001272170586, 'Stub': 0.8506977457574628}}}}, '441186581': {'wp10': {'score': {'prediction': 'Stub', 'probability': {'B': 0.00752908372935955, 'C': 0.011698750542107464, 'FA': 0.001217297276719427, 'GA': 0.0018271099726449593, 'Start': 0.12703001272170586, 'Stub': 0.8506977457574628}}}}, '441771813': {'wp10': {'score': {'prediction': 'Stub', 'probability': {'B': 0.00752908372935955, 'C': 0.011698750542107464, 'FA': 0.001217297276719427, 'GA': 0.0018271099726449593, 'Start': 0.12703001272170586, 'Stub': 0.8506977457574628}}}}, '441995465': {'wp10': {'score': {'prediction': 'Stub', 'probability': {'B': 0.007580889048209687, 'C': 0.011734890201082999, 'FA': 0.0012210577388554597, 'GA': 0.001832754261843581, 'Start': 0.12742243252097374, 'Stub': 0.8502079762290345}}}}, '442411422': {'wp10': {'score': {'prediction': 'Stub', 'probability': {'B': 0.007484512994694413, 'C': 0.011412492243059649, 'FA': 0.0012009723629945405, 'GA': 0.0018081511740405953, 'Start': 0.12769467767768936, 'Stub': 0.8503991935475214}}}}, '442913438': {'wp10': {'score': {'prediction': 'Stub', 'probability': {'B': 0.004327406123706563, 'C': 0.00462966550439898, 'FA': 0.0009008485378231201, 'GA': 0.0011326304248249336, 'Start': 0.019890641232998097, 'Stub': 0.9691188081762483}}}}, '442937236': {'wp10': {'score': {'prediction': 'Stub', 'probability': {'B': 0.0035143531013533897, 'C': 0.0034116082778090115, 'FA': 0.0004504786619134722, 'GA': 0.0008217818871048018, 'Start': 0.008247081760823342, 'Stub': 0.9835546963109959}}}}, '443468553': {'wp10': {'score': {'prediction': 'Stub', 'probability': {'B': 0.008142377113722343, 'C': 0.007778737928393821, 'FA': 0.0013078486593185129, 'GA': 0.0018460179563454006, 'Start': 0.16606521282499745, 'Stub': 0.8148598055172228}}}}, '443469862': {'wp10': {'score': {'prediction': 'Stub', 'probability': {'B': 0.008088362645173128, 'C': 0.00787958655266893, 'FA': 0.0012991727223913424, 'GA': 0.0018337719405380176, 'Start': 0.1647409328755845, 'Stub': 0.8161581732636439}}}}, '443470532': {'wp10': {'score': {'prediction': 'Stub', 'probability': {'B': 0.00808779492593443, 'C': 0.007726593385291659, 'FA': 0.0012990815339294435, 'GA': 0.0018336432287510112, 'Start': 0.16495199950843686, 'Stub': 0.8161008874176564}}}}, '443496992': {'wp10': {'score': {'prediction': 'Stub', 'probability': {'B': 0.008088362645173128, 'C': 0.00787958655266893, 'FA': 0.0012991727223913424, 'GA': 0.0018337719405380176, 'Start': 0.1647409328755845, 'Stub': 0.8161581732636439}}}}, '443497423': {'wp10': {'score': {'prediction': 'Stub', 'probability': {'B': 0.008088362645173128, 'C': 0.00787958655266893, 'FA': 0.0012991727223913424, 'GA': 0.0018337719405380176, 'Start': 0.1647409328755845, 'Stub': 0.8161581732636439}}}}}}}\n"
     ]
    }
   ],
   "source": [
    "print(ores_query[0])"
   ]
  },
  {
   "cell_type": "markdown",
   "metadata": {},
   "source": [
    "## Clean the data"
   ]
  },
  {
   "cell_type": "markdown",
   "metadata": {},
   "source": [
    "Here is where I start to break out the dictionaries of dictionaires that the API querie gave me. I am interestet in the *rev_id* (which is within the **scores** dictionary) and the *prediction* (which is within the **score** dictionary).  \n",
    "For this part, I used list comprehension. More information can be found here: https://www.pythonforbeginners.com/basics/list-comprehensions-in-python"
   ]
  },
  {
   "cell_type": "code",
   "execution_count": 14,
   "metadata": {},
   "outputs": [],
   "source": [
    "# Here I drill down into the \"enwiki\" dictionary\n",
    "new_list = [i[\"enwiki\"] for i in ores_query] #list comprehesion\n",
    "temp_data_frame = pd.DataFrame(new_list) # create a dataframe of the data becuase I like dataframes better"
   ]
  },
  {
   "cell_type": "code",
   "execution_count": 15,
   "metadata": {
    "scrolled": true
   },
   "outputs": [
    {
     "data": {
      "text/html": [
       "<div>\n",
       "<style scoped>\n",
       "    .dataframe tbody tr th:only-of-type {\n",
       "        vertical-align: middle;\n",
       "    }\n",
       "\n",
       "    .dataframe tbody tr th {\n",
       "        vertical-align: top;\n",
       "    }\n",
       "\n",
       "    .dataframe thead th {\n",
       "        text-align: right;\n",
       "    }\n",
       "</style>\n",
       "<table border=\"1\" class=\"dataframe\">\n",
       "  <thead>\n",
       "    <tr style=\"text-align: right;\">\n",
       "      <th></th>\n",
       "      <th>models</th>\n",
       "      <th>scores</th>\n",
       "    </tr>\n",
       "  </thead>\n",
       "  <tbody>\n",
       "    <tr>\n",
       "      <th>0</th>\n",
       "      <td>{'wp10': {'version': '0.6.1'}}</td>\n",
       "      <td>{'235107991': {'wp10': {'error': {'message': '...</td>\n",
       "    </tr>\n",
       "    <tr>\n",
       "      <th>1</th>\n",
       "      <td>{'wp10': {'version': '0.6.1'}}</td>\n",
       "      <td>{'443497605': {'wp10': {'score': {'prediction'...</td>\n",
       "    </tr>\n",
       "    <tr>\n",
       "      <th>2</th>\n",
       "      <td>{'wp10': {'version': '0.6.1'}}</td>\n",
       "      <td>{'446222994': {'wp10': {'score': {'prediction'...</td>\n",
       "    </tr>\n",
       "    <tr>\n",
       "      <th>3</th>\n",
       "      <td>{'wp10': {'version': '0.6.1'}}</td>\n",
       "      <td>{'535414570': {'wp10': {'score': {'prediction'...</td>\n",
       "    </tr>\n",
       "    <tr>\n",
       "      <th>4</th>\n",
       "      <td>{'wp10': {'version': '0.6.1'}}</td>\n",
       "      <td>{'541004175': {'wp10': {'score': {'prediction'...</td>\n",
       "    </tr>\n",
       "  </tbody>\n",
       "</table>\n",
       "</div>"
      ],
      "text/plain": [
       "                           models  \\\n",
       "0  {'wp10': {'version': '0.6.1'}}   \n",
       "1  {'wp10': {'version': '0.6.1'}}   \n",
       "2  {'wp10': {'version': '0.6.1'}}   \n",
       "3  {'wp10': {'version': '0.6.1'}}   \n",
       "4  {'wp10': {'version': '0.6.1'}}   \n",
       "\n",
       "                                              scores  \n",
       "0  {'235107991': {'wp10': {'error': {'message': '...  \n",
       "1  {'443497605': {'wp10': {'score': {'prediction'...  \n",
       "2  {'446222994': {'wp10': {'score': {'prediction'...  \n",
       "3  {'535414570': {'wp10': {'score': {'prediction'...  \n",
       "4  {'541004175': {'wp10': {'score': {'prediction'...  "
      ]
     },
     "execution_count": 15,
     "metadata": {},
     "output_type": "execute_result"
    }
   ],
   "source": [
    "temp_data_frame.head()"
   ]
  },
  {
   "cell_type": "markdown",
   "metadata": {},
   "source": [
    "Now I need to drill down into the **scores** column"
   ]
  },
  {
   "cell_type": "code",
   "execution_count": 16,
   "metadata": {},
   "outputs": [],
   "source": [
    "# Here I get the first batch of the API query results\n",
    "scores = pd.DataFrame.from_dict(ores_query[0]['enwiki']['scores']).T"
   ]
  },
  {
   "cell_type": "code",
   "execution_count": 17,
   "metadata": {},
   "outputs": [
    {
     "data": {
      "text/html": [
       "<div>\n",
       "<style scoped>\n",
       "    .dataframe tbody tr th:only-of-type {\n",
       "        vertical-align: middle;\n",
       "    }\n",
       "\n",
       "    .dataframe tbody tr th {\n",
       "        vertical-align: top;\n",
       "    }\n",
       "\n",
       "    .dataframe thead th {\n",
       "        text-align: right;\n",
       "    }\n",
       "</style>\n",
       "<table border=\"1\" class=\"dataframe\">\n",
       "  <thead>\n",
       "    <tr style=\"text-align: right;\">\n",
       "      <th></th>\n",
       "      <th>wp10</th>\n",
       "    </tr>\n",
       "  </thead>\n",
       "  <tbody>\n",
       "    <tr>\n",
       "      <th>235107991</th>\n",
       "      <td>{'error': {'message': 'RevisionNotFound: Could...</td>\n",
       "    </tr>\n",
       "    <tr>\n",
       "      <th>355319463</th>\n",
       "      <td>{'score': {'prediction': 'Stub', 'probability'...</td>\n",
       "    </tr>\n",
       "    <tr>\n",
       "      <th>391862046</th>\n",
       "      <td>{'score': {'prediction': 'Stub', 'probability'...</td>\n",
       "    </tr>\n",
       "    <tr>\n",
       "      <th>391862070</th>\n",
       "      <td>{'score': {'prediction': 'Stub', 'probability'...</td>\n",
       "    </tr>\n",
       "    <tr>\n",
       "      <th>391862409</th>\n",
       "      <td>{'score': {'prediction': 'Stub', 'probability'...</td>\n",
       "    </tr>\n",
       "  </tbody>\n",
       "</table>\n",
       "</div>"
      ],
      "text/plain": [
       "                                                        wp10\n",
       "235107991  {'error': {'message': 'RevisionNotFound: Could...\n",
       "355319463  {'score': {'prediction': 'Stub', 'probability'...\n",
       "391862046  {'score': {'prediction': 'Stub', 'probability'...\n",
       "391862070  {'score': {'prediction': 'Stub', 'probability'...\n",
       "391862409  {'score': {'prediction': 'Stub', 'probability'..."
      ]
     },
     "execution_count": 17,
     "metadata": {},
     "output_type": "execute_result"
    }
   ],
   "source": [
    "scores.head()"
   ]
  },
  {
   "cell_type": "markdown",
   "metadata": {},
   "source": [
    "Because my for-loop created a list of dictionaries, I need a way to append each query for only the information I want. I created another for-loop to do this. I start with the first chunk of the API query, and append each chunk as I loop through the list."
   ]
  },
  {
   "cell_type": "code",
   "execution_count": 18,
   "metadata": {
    "scrolled": false
   },
   "outputs": [],
   "source": [
    "new_table = scores.reset_index() # Start with the first chunk from the API Query\n",
    "\n",
    "for i in range(1,len(ores_query)):\n",
    "    temp = pd.DataFrame.from_dict(ores_query[i]['enwiki']['scores']).T.reset_index()\n",
    "    new_table = new_table.append(temp, ignore_index = True)"
   ]
  },
  {
   "cell_type": "code",
   "execution_count": 19,
   "metadata": {},
   "outputs": [
    {
     "data": {
      "text/html": [
       "<div>\n",
       "<style scoped>\n",
       "    .dataframe tbody tr th:only-of-type {\n",
       "        vertical-align: middle;\n",
       "    }\n",
       "\n",
       "    .dataframe tbody tr th {\n",
       "        vertical-align: top;\n",
       "    }\n",
       "\n",
       "    .dataframe thead th {\n",
       "        text-align: right;\n",
       "    }\n",
       "</style>\n",
       "<table border=\"1\" class=\"dataframe\">\n",
       "  <thead>\n",
       "    <tr style=\"text-align: right;\">\n",
       "      <th></th>\n",
       "      <th>index</th>\n",
       "      <th>wp10</th>\n",
       "    </tr>\n",
       "  </thead>\n",
       "  <tbody>\n",
       "    <tr>\n",
       "      <th>0</th>\n",
       "      <td>235107991</td>\n",
       "      <td>{'error': {'message': 'RevisionNotFound: Could...</td>\n",
       "    </tr>\n",
       "    <tr>\n",
       "      <th>1</th>\n",
       "      <td>355319463</td>\n",
       "      <td>{'score': {'prediction': 'Stub', 'probability'...</td>\n",
       "    </tr>\n",
       "    <tr>\n",
       "      <th>2</th>\n",
       "      <td>391862046</td>\n",
       "      <td>{'score': {'prediction': 'Stub', 'probability'...</td>\n",
       "    </tr>\n",
       "    <tr>\n",
       "      <th>3</th>\n",
       "      <td>391862070</td>\n",
       "      <td>{'score': {'prediction': 'Stub', 'probability'...</td>\n",
       "    </tr>\n",
       "    <tr>\n",
       "      <th>4</th>\n",
       "      <td>391862409</td>\n",
       "      <td>{'score': {'prediction': 'Stub', 'probability'...</td>\n",
       "    </tr>\n",
       "  </tbody>\n",
       "</table>\n",
       "</div>"
      ],
      "text/plain": [
       "       index                                               wp10\n",
       "0  235107991  {'error': {'message': 'RevisionNotFound: Could...\n",
       "1  355319463  {'score': {'prediction': 'Stub', 'probability'...\n",
       "2  391862046  {'score': {'prediction': 'Stub', 'probability'...\n",
       "3  391862070  {'score': {'prediction': 'Stub', 'probability'...\n",
       "4  391862409  {'score': {'prediction': 'Stub', 'probability'..."
      ]
     },
     "execution_count": 19,
     "metadata": {},
     "output_type": "execute_result"
    }
   ],
   "source": [
    "new_table.head()"
   ]
  },
  {
   "cell_type": "markdown",
   "metadata": {},
   "source": [
    "I now need to create a column that has just the *prediction*, and append it to my current data frame."
   ]
  },
  {
   "cell_type": "code",
   "execution_count": 20,
   "metadata": {},
   "outputs": [],
   "source": [
    "# Create a table of just the \"wp10\" column, keeping the indicies the same. Will need to use this for combining data sets later\n",
    "new_table_2 = pd.DataFrame(new_table['wp10'])"
   ]
  },
  {
   "cell_type": "code",
   "execution_count": 21,
   "metadata": {
    "scrolled": true
   },
   "outputs": [
    {
     "data": {
      "text/html": [
       "<div>\n",
       "<style scoped>\n",
       "    .dataframe tbody tr th:only-of-type {\n",
       "        vertical-align: middle;\n",
       "    }\n",
       "\n",
       "    .dataframe tbody tr th {\n",
       "        vertical-align: top;\n",
       "    }\n",
       "\n",
       "    .dataframe thead th {\n",
       "        text-align: right;\n",
       "    }\n",
       "</style>\n",
       "<table border=\"1\" class=\"dataframe\">\n",
       "  <thead>\n",
       "    <tr style=\"text-align: right;\">\n",
       "      <th></th>\n",
       "      <th>wp10</th>\n",
       "    </tr>\n",
       "  </thead>\n",
       "  <tbody>\n",
       "    <tr>\n",
       "      <th>0</th>\n",
       "      <td>{'error': {'message': 'RevisionNotFound: Could...</td>\n",
       "    </tr>\n",
       "    <tr>\n",
       "      <th>1</th>\n",
       "      <td>{'score': {'prediction': 'Stub', 'probability'...</td>\n",
       "    </tr>\n",
       "    <tr>\n",
       "      <th>2</th>\n",
       "      <td>{'score': {'prediction': 'Stub', 'probability'...</td>\n",
       "    </tr>\n",
       "    <tr>\n",
       "      <th>3</th>\n",
       "      <td>{'score': {'prediction': 'Stub', 'probability'...</td>\n",
       "    </tr>\n",
       "    <tr>\n",
       "      <th>4</th>\n",
       "      <td>{'score': {'prediction': 'Stub', 'probability'...</td>\n",
       "    </tr>\n",
       "  </tbody>\n",
       "</table>\n",
       "</div>"
      ],
      "text/plain": [
       "                                                wp10\n",
       "0  {'error': {'message': 'RevisionNotFound: Could...\n",
       "1  {'score': {'prediction': 'Stub', 'probability'...\n",
       "2  {'score': {'prediction': 'Stub', 'probability'...\n",
       "3  {'score': {'prediction': 'Stub', 'probability'...\n",
       "4  {'score': {'prediction': 'Stub', 'probability'..."
      ]
     },
     "execution_count": 21,
     "metadata": {},
     "output_type": "execute_result"
    }
   ],
   "source": [
    "new_table_2.head()"
   ]
  },
  {
   "cell_type": "code",
   "execution_count": 22,
   "metadata": {},
   "outputs": [],
   "source": [
    "# split the 'wp10' into columns based on the dictionary key\n",
    "temp_scores = new_table_2['wp10'].apply(pd.Series)"
   ]
  },
  {
   "cell_type": "code",
   "execution_count": 23,
   "metadata": {
    "scrolled": true
   },
   "outputs": [
    {
     "data": {
      "text/html": [
       "<div>\n",
       "<style scoped>\n",
       "    .dataframe tbody tr th:only-of-type {\n",
       "        vertical-align: middle;\n",
       "    }\n",
       "\n",
       "    .dataframe tbody tr th {\n",
       "        vertical-align: top;\n",
       "    }\n",
       "\n",
       "    .dataframe thead th {\n",
       "        text-align: right;\n",
       "    }\n",
       "</style>\n",
       "<table border=\"1\" class=\"dataframe\">\n",
       "  <thead>\n",
       "    <tr style=\"text-align: right;\">\n",
       "      <th></th>\n",
       "      <th>error</th>\n",
       "      <th>score</th>\n",
       "    </tr>\n",
       "  </thead>\n",
       "  <tbody>\n",
       "    <tr>\n",
       "      <th>0</th>\n",
       "      <td>{'message': 'RevisionNotFound: Could not find ...</td>\n",
       "      <td>NaN</td>\n",
       "    </tr>\n",
       "    <tr>\n",
       "      <th>1</th>\n",
       "      <td>NaN</td>\n",
       "      <td>{'prediction': 'Stub', 'probability': {'B': 0....</td>\n",
       "    </tr>\n",
       "    <tr>\n",
       "      <th>2</th>\n",
       "      <td>NaN</td>\n",
       "      <td>{'prediction': 'Stub', 'probability': {'B': 0....</td>\n",
       "    </tr>\n",
       "    <tr>\n",
       "      <th>3</th>\n",
       "      <td>NaN</td>\n",
       "      <td>{'prediction': 'Stub', 'probability': {'B': 0....</td>\n",
       "    </tr>\n",
       "    <tr>\n",
       "      <th>4</th>\n",
       "      <td>NaN</td>\n",
       "      <td>{'prediction': 'Stub', 'probability': {'B': 0....</td>\n",
       "    </tr>\n",
       "  </tbody>\n",
       "</table>\n",
       "</div>"
      ],
      "text/plain": [
       "                                               error  \\\n",
       "0  {'message': 'RevisionNotFound: Could not find ...   \n",
       "1                                                NaN   \n",
       "2                                                NaN   \n",
       "3                                                NaN   \n",
       "4                                                NaN   \n",
       "\n",
       "                                               score  \n",
       "0                                                NaN  \n",
       "1  {'prediction': 'Stub', 'probability': {'B': 0....  \n",
       "2  {'prediction': 'Stub', 'probability': {'B': 0....  \n",
       "3  {'prediction': 'Stub', 'probability': {'B': 0....  \n",
       "4  {'prediction': 'Stub', 'probability': {'B': 0....  "
      ]
     },
     "execution_count": 23,
     "metadata": {},
     "output_type": "execute_result"
    }
   ],
   "source": [
    "temp_scores.head()"
   ]
  },
  {
   "cell_type": "markdown",
   "metadata": {},
   "source": [
    "I am only really interested in the *prediction* value under the *score* column. As you can see above, it will show NaN if there was an error in finding the *rev_id*."
   ]
  },
  {
   "cell_type": "code",
   "execution_count": 24,
   "metadata": {},
   "outputs": [
    {
     "name": "stderr",
     "output_type": "stream",
     "text": [
      "C:\\Users\\hanna\\Anaconda3\\lib\\site-packages\\pandas\\core\\indexes\\api.py:69: RuntimeWarning: '<' not supported between instances of 'str' and 'int', sort order is undefined for incomparable objects\n",
      "  index = _union_indexes(indexes, sort=sort)\n",
      "C:\\Users\\hanna\\Anaconda3\\lib\\site-packages\\pandas\\core\\indexes\\api.py:107: RuntimeWarning: '<' not supported between instances of 'str' and 'int', sort order is undefined for incomparable objects\n",
      "  result = result.union(other)\n"
     ]
    }
   ],
   "source": [
    "# split *score* dictionary into its values\n",
    "pred_list = temp_scores['score'].apply(pd.Series)"
   ]
  },
  {
   "cell_type": "code",
   "execution_count": 25,
   "metadata": {
    "scrolled": false
   },
   "outputs": [
    {
     "data": {
      "text/html": [
       "<div>\n",
       "<style scoped>\n",
       "    .dataframe tbody tr th:only-of-type {\n",
       "        vertical-align: middle;\n",
       "    }\n",
       "\n",
       "    .dataframe tbody tr th {\n",
       "        vertical-align: top;\n",
       "    }\n",
       "\n",
       "    .dataframe thead th {\n",
       "        text-align: right;\n",
       "    }\n",
       "</style>\n",
       "<table border=\"1\" class=\"dataframe\">\n",
       "  <thead>\n",
       "    <tr style=\"text-align: right;\">\n",
       "      <th></th>\n",
       "      <th>0</th>\n",
       "      <th>prediction</th>\n",
       "      <th>probability</th>\n",
       "    </tr>\n",
       "  </thead>\n",
       "  <tbody>\n",
       "    <tr>\n",
       "      <th>0</th>\n",
       "      <td>NaN</td>\n",
       "      <td>NaN</td>\n",
       "      <td>NaN</td>\n",
       "    </tr>\n",
       "    <tr>\n",
       "      <th>1</th>\n",
       "      <td>NaN</td>\n",
       "      <td>Stub</td>\n",
       "      <td>{'B': 0.0037293011286007372, 'C': 0.0038568230...</td>\n",
       "    </tr>\n",
       "    <tr>\n",
       "      <th>2</th>\n",
       "      <td>NaN</td>\n",
       "      <td>Stub</td>\n",
       "      <td>{'B': 0.00752908372935955, 'C': 0.011698750542...</td>\n",
       "    </tr>\n",
       "    <tr>\n",
       "      <th>3</th>\n",
       "      <td>NaN</td>\n",
       "      <td>Stub</td>\n",
       "      <td>{'B': 0.007528602399161758, 'C': 0.01176193209...</td>\n",
       "    </tr>\n",
       "    <tr>\n",
       "      <th>4</th>\n",
       "      <td>NaN</td>\n",
       "      <td>Stub</td>\n",
       "      <td>{'B': 0.007958430970874009, 'C': 0.01225332170...</td>\n",
       "    </tr>\n",
       "  </tbody>\n",
       "</table>\n",
       "</div>"
      ],
      "text/plain": [
       "    0 prediction                                        probability\n",
       "0 NaN        NaN                                                NaN\n",
       "1 NaN       Stub  {'B': 0.0037293011286007372, 'C': 0.0038568230...\n",
       "2 NaN       Stub  {'B': 0.00752908372935955, 'C': 0.011698750542...\n",
       "3 NaN       Stub  {'B': 0.007528602399161758, 'C': 0.01176193209...\n",
       "4 NaN       Stub  {'B': 0.007958430970874009, 'C': 0.01225332170..."
      ]
     },
     "execution_count": 25,
     "metadata": {},
     "output_type": "execute_result"
    }
   ],
   "source": [
    "pred_list.head()"
   ]
  },
  {
   "cell_type": "markdown",
   "metadata": {},
   "source": [
    "Now that I have the **ORES** predictions of the quality of the article, I can append it to `new_dataframe` so that I have the *rev_id* and the *predictions*"
   ]
  },
  {
   "cell_type": "code",
   "execution_count": 26,
   "metadata": {},
   "outputs": [],
   "source": [
    "new_table['prediction'] = pred_list['prediction']"
   ]
  },
  {
   "cell_type": "code",
   "execution_count": 27,
   "metadata": {},
   "outputs": [
    {
     "data": {
      "text/html": [
       "<div>\n",
       "<style scoped>\n",
       "    .dataframe tbody tr th:only-of-type {\n",
       "        vertical-align: middle;\n",
       "    }\n",
       "\n",
       "    .dataframe tbody tr th {\n",
       "        vertical-align: top;\n",
       "    }\n",
       "\n",
       "    .dataframe thead th {\n",
       "        text-align: right;\n",
       "    }\n",
       "</style>\n",
       "<table border=\"1\" class=\"dataframe\">\n",
       "  <thead>\n",
       "    <tr style=\"text-align: right;\">\n",
       "      <th></th>\n",
       "      <th>index</th>\n",
       "      <th>wp10</th>\n",
       "      <th>prediction</th>\n",
       "    </tr>\n",
       "  </thead>\n",
       "  <tbody>\n",
       "    <tr>\n",
       "      <th>0</th>\n",
       "      <td>235107991</td>\n",
       "      <td>{'error': {'message': 'RevisionNotFound: Could...</td>\n",
       "      <td>NaN</td>\n",
       "    </tr>\n",
       "    <tr>\n",
       "      <th>1</th>\n",
       "      <td>355319463</td>\n",
       "      <td>{'score': {'prediction': 'Stub', 'probability'...</td>\n",
       "      <td>Stub</td>\n",
       "    </tr>\n",
       "    <tr>\n",
       "      <th>2</th>\n",
       "      <td>391862046</td>\n",
       "      <td>{'score': {'prediction': 'Stub', 'probability'...</td>\n",
       "      <td>Stub</td>\n",
       "    </tr>\n",
       "    <tr>\n",
       "      <th>3</th>\n",
       "      <td>391862070</td>\n",
       "      <td>{'score': {'prediction': 'Stub', 'probability'...</td>\n",
       "      <td>Stub</td>\n",
       "    </tr>\n",
       "    <tr>\n",
       "      <th>4</th>\n",
       "      <td>391862409</td>\n",
       "      <td>{'score': {'prediction': 'Stub', 'probability'...</td>\n",
       "      <td>Stub</td>\n",
       "    </tr>\n",
       "  </tbody>\n",
       "</table>\n",
       "</div>"
      ],
      "text/plain": [
       "       index                                               wp10 prediction\n",
       "0  235107991  {'error': {'message': 'RevisionNotFound: Could...        NaN\n",
       "1  355319463  {'score': {'prediction': 'Stub', 'probability'...       Stub\n",
       "2  391862046  {'score': {'prediction': 'Stub', 'probability'...       Stub\n",
       "3  391862070  {'score': {'prediction': 'Stub', 'probability'...       Stub\n",
       "4  391862409  {'score': {'prediction': 'Stub', 'probability'...       Stub"
      ]
     },
     "execution_count": 27,
     "metadata": {},
     "output_type": "execute_result"
    }
   ],
   "source": [
    "new_table.head()"
   ]
  },
  {
   "cell_type": "markdown",
   "metadata": {},
   "source": [
    "Below I create a table of just the values I need (*rev_id* and *prediction*)."
   ]
  },
  {
   "cell_type": "code",
   "execution_count": 28,
   "metadata": {
    "scrolled": true
   },
   "outputs": [],
   "source": [
    "predictions = pd.DataFrame(new_table[\"index\"]) # this creates the rev_id column\n",
    "predictions ['prediction'] = new_table['prediction'] # this creates the prediction column, remember NaN means the rev_id was not found in the query\n",
    "predictions  = predictions .rename(columns = {'index': 'rev_id'}) # rename the 'index' column to its proper title of 'rev_id'"
   ]
  },
  {
   "cell_type": "code",
   "execution_count": 29,
   "metadata": {},
   "outputs": [
    {
     "data": {
      "text/html": [
       "<div>\n",
       "<style scoped>\n",
       "    .dataframe tbody tr th:only-of-type {\n",
       "        vertical-align: middle;\n",
       "    }\n",
       "\n",
       "    .dataframe tbody tr th {\n",
       "        vertical-align: top;\n",
       "    }\n",
       "\n",
       "    .dataframe thead th {\n",
       "        text-align: right;\n",
       "    }\n",
       "</style>\n",
       "<table border=\"1\" class=\"dataframe\">\n",
       "  <thead>\n",
       "    <tr style=\"text-align: right;\">\n",
       "      <th></th>\n",
       "      <th>rev_id</th>\n",
       "      <th>prediction</th>\n",
       "    </tr>\n",
       "  </thead>\n",
       "  <tbody>\n",
       "    <tr>\n",
       "      <th>0</th>\n",
       "      <td>235107991</td>\n",
       "      <td>NaN</td>\n",
       "    </tr>\n",
       "    <tr>\n",
       "      <th>1</th>\n",
       "      <td>355319463</td>\n",
       "      <td>Stub</td>\n",
       "    </tr>\n",
       "    <tr>\n",
       "      <th>2</th>\n",
       "      <td>391862046</td>\n",
       "      <td>Stub</td>\n",
       "    </tr>\n",
       "    <tr>\n",
       "      <th>3</th>\n",
       "      <td>391862070</td>\n",
       "      <td>Stub</td>\n",
       "    </tr>\n",
       "    <tr>\n",
       "      <th>4</th>\n",
       "      <td>391862409</td>\n",
       "      <td>Stub</td>\n",
       "    </tr>\n",
       "  </tbody>\n",
       "</table>\n",
       "</div>"
      ],
      "text/plain": [
       "      rev_id prediction\n",
       "0  235107991        NaN\n",
       "1  355319463       Stub\n",
       "2  391862046       Stub\n",
       "3  391862070       Stub\n",
       "4  391862409       Stub"
      ]
     },
     "execution_count": 29,
     "metadata": {},
     "output_type": "execute_result"
    }
   ],
   "source": [
    "predictions.head()"
   ]
  },
  {
   "cell_type": "markdown",
   "metadata": {},
   "source": [
    "I now need to merge the three datasources `page_data`, `wpds` and `predictions`. I need to do some more clean up of column titles in order to merge  the tables properly by *country* and *rev_id*.  \n",
    "\n",
    "For more information on merging dataframes, see https://pandas.pydata.org/pandas-docs/stable/merging.html"
   ]
  },
  {
   "cell_type": "code",
   "execution_count": 30,
   "metadata": {},
   "outputs": [
    {
     "data": {
      "text/html": [
       "<div>\n",
       "<style scoped>\n",
       "    .dataframe tbody tr th:only-of-type {\n",
       "        vertical-align: middle;\n",
       "    }\n",
       "\n",
       "    .dataframe tbody tr th {\n",
       "        vertical-align: top;\n",
       "    }\n",
       "\n",
       "    .dataframe thead th {\n",
       "        text-align: right;\n",
       "    }\n",
       "</style>\n",
       "<table border=\"1\" class=\"dataframe\">\n",
       "  <thead>\n",
       "    <tr style=\"text-align: right;\">\n",
       "      <th></th>\n",
       "      <th>page</th>\n",
       "      <th>country</th>\n",
       "      <th>rev_id</th>\n",
       "    </tr>\n",
       "  </thead>\n",
       "  <tbody>\n",
       "    <tr>\n",
       "      <th>0</th>\n",
       "      <td>Template:ZambiaProvincialMinisters</td>\n",
       "      <td>Zambia</td>\n",
       "      <td>235107991</td>\n",
       "    </tr>\n",
       "    <tr>\n",
       "      <th>1</th>\n",
       "      <td>Bir I of Kanem</td>\n",
       "      <td>Chad</td>\n",
       "      <td>355319463</td>\n",
       "    </tr>\n",
       "    <tr>\n",
       "      <th>2</th>\n",
       "      <td>Template:Zimbabwe-politician-stub</td>\n",
       "      <td>Zimbabwe</td>\n",
       "      <td>391862046</td>\n",
       "    </tr>\n",
       "    <tr>\n",
       "      <th>3</th>\n",
       "      <td>Template:Uganda-politician-stub</td>\n",
       "      <td>Uganda</td>\n",
       "      <td>391862070</td>\n",
       "    </tr>\n",
       "    <tr>\n",
       "      <th>4</th>\n",
       "      <td>Template:Namibia-politician-stub</td>\n",
       "      <td>Namibia</td>\n",
       "      <td>391862409</td>\n",
       "    </tr>\n",
       "  </tbody>\n",
       "</table>\n",
       "</div>"
      ],
      "text/plain": [
       "                                 page   country     rev_id\n",
       "0  Template:ZambiaProvincialMinisters    Zambia  235107991\n",
       "1                      Bir I of Kanem      Chad  355319463\n",
       "2   Template:Zimbabwe-politician-stub  Zimbabwe  391862046\n",
       "3     Template:Uganda-politician-stub    Uganda  391862070\n",
       "4    Template:Namibia-politician-stub   Namibia  391862409"
      ]
     },
     "execution_count": 30,
     "metadata": {},
     "output_type": "execute_result"
    }
   ],
   "source": [
    "page_data.head()"
   ]
  },
  {
   "cell_type": "code",
   "execution_count": 73,
   "metadata": {},
   "outputs": [
    {
     "data": {
      "text/html": [
       "<div>\n",
       "<style scoped>\n",
       "    .dataframe tbody tr th:only-of-type {\n",
       "        vertical-align: middle;\n",
       "    }\n",
       "\n",
       "    .dataframe tbody tr th {\n",
       "        vertical-align: top;\n",
       "    }\n",
       "\n",
       "    .dataframe thead th {\n",
       "        text-align: right;\n",
       "    }\n",
       "</style>\n",
       "<table border=\"1\" class=\"dataframe\">\n",
       "  <thead>\n",
       "    <tr style=\"text-align: right;\">\n",
       "      <th></th>\n",
       "      <th>Geography</th>\n",
       "      <th>Population mid-2018 (millions)</th>\n",
       "    </tr>\n",
       "  </thead>\n",
       "  <tbody>\n",
       "    <tr>\n",
       "      <th>0</th>\n",
       "      <td>AFRICA</td>\n",
       "      <td>1284.0</td>\n",
       "    </tr>\n",
       "    <tr>\n",
       "      <th>1</th>\n",
       "      <td>Algeria</td>\n",
       "      <td>42.7</td>\n",
       "    </tr>\n",
       "    <tr>\n",
       "      <th>2</th>\n",
       "      <td>Egypt</td>\n",
       "      <td>97.0</td>\n",
       "    </tr>\n",
       "    <tr>\n",
       "      <th>3</th>\n",
       "      <td>Libya</td>\n",
       "      <td>6.5</td>\n",
       "    </tr>\n",
       "    <tr>\n",
       "      <th>4</th>\n",
       "      <td>Morocco</td>\n",
       "      <td>35.2</td>\n",
       "    </tr>\n",
       "  </tbody>\n",
       "</table>\n",
       "</div>"
      ],
      "text/plain": [
       "  Geography  Population mid-2018 (millions)\n",
       "0    AFRICA                          1284.0\n",
       "1   Algeria                            42.7\n",
       "2     Egypt                            97.0\n",
       "3     Libya                             6.5\n",
       "4   Morocco                            35.2"
      ]
     },
     "execution_count": 73,
     "metadata": {},
     "output_type": "execute_result"
    }
   ],
   "source": [
    "wpds_2018.head()"
   ]
  },
  {
   "cell_type": "code",
   "execution_count": 32,
   "metadata": {
    "scrolled": false
   },
   "outputs": [
    {
     "data": {
      "text/html": [
       "<div>\n",
       "<style scoped>\n",
       "    .dataframe tbody tr th:only-of-type {\n",
       "        vertical-align: middle;\n",
       "    }\n",
       "\n",
       "    .dataframe tbody tr th {\n",
       "        vertical-align: top;\n",
       "    }\n",
       "\n",
       "    .dataframe thead th {\n",
       "        text-align: right;\n",
       "    }\n",
       "</style>\n",
       "<table border=\"1\" class=\"dataframe\">\n",
       "  <thead>\n",
       "    <tr style=\"text-align: right;\">\n",
       "      <th></th>\n",
       "      <th>rev_id</th>\n",
       "      <th>prediction</th>\n",
       "    </tr>\n",
       "  </thead>\n",
       "  <tbody>\n",
       "    <tr>\n",
       "      <th>0</th>\n",
       "      <td>235107991</td>\n",
       "      <td>NaN</td>\n",
       "    </tr>\n",
       "    <tr>\n",
       "      <th>1</th>\n",
       "      <td>355319463</td>\n",
       "      <td>Stub</td>\n",
       "    </tr>\n",
       "    <tr>\n",
       "      <th>2</th>\n",
       "      <td>391862046</td>\n",
       "      <td>Stub</td>\n",
       "    </tr>\n",
       "    <tr>\n",
       "      <th>3</th>\n",
       "      <td>391862070</td>\n",
       "      <td>Stub</td>\n",
       "    </tr>\n",
       "    <tr>\n",
       "      <th>4</th>\n",
       "      <td>391862409</td>\n",
       "      <td>Stub</td>\n",
       "    </tr>\n",
       "  </tbody>\n",
       "</table>\n",
       "</div>"
      ],
      "text/plain": [
       "      rev_id prediction\n",
       "0  235107991        NaN\n",
       "1  355319463       Stub\n",
       "2  391862046       Stub\n",
       "3  391862070       Stub\n",
       "4  391862409       Stub"
      ]
     },
     "execution_count": 32,
     "metadata": {},
     "output_type": "execute_result"
    }
   ],
   "source": [
    "predictions.head()"
   ]
  },
  {
   "cell_type": "markdown",
   "metadata": {},
   "source": [
    "Here I merge the `predicitons` and the `page_data` tables using *rev_id* to merge the tables. First I need to check that the types of the *rev_id* columns are the same."
   ]
  },
  {
   "cell_type": "code",
   "execution_count": 33,
   "metadata": {},
   "outputs": [
    {
     "data": {
      "text/plain": [
       "numpy.int64"
      ]
     },
     "execution_count": 33,
     "metadata": {},
     "output_type": "execute_result"
    }
   ],
   "source": [
    "type(page_data['rev_id'][0])"
   ]
  },
  {
   "cell_type": "code",
   "execution_count": 34,
   "metadata": {
    "scrolled": false
   },
   "outputs": [
    {
     "data": {
      "text/plain": [
       "str"
      ]
     },
     "execution_count": 34,
     "metadata": {},
     "output_type": "execute_result"
    }
   ],
   "source": [
    "type(predictions['rev_id'][0])"
   ]
  },
  {
   "cell_type": "markdown",
   "metadata": {},
   "source": [
    "Since they are not, I need to change the type of *rev_id*"
   ]
  },
  {
   "cell_type": "code",
   "execution_count": 35,
   "metadata": {},
   "outputs": [
    {
     "data": {
      "text/plain": [
       "numpy.int64"
      ]
     },
     "execution_count": 35,
     "metadata": {},
     "output_type": "execute_result"
    }
   ],
   "source": [
    "predictions['rev_id'] = predictions['rev_id'].astype('int64')\n",
    "type(predictions['rev_id'][0])"
   ]
  },
  {
   "cell_type": "code",
   "execution_count": 78,
   "metadata": {},
   "outputs": [],
   "source": [
    "en_wikipedia_bias_data = pd.merge(page_data, predictions, on = 'rev_id', how = 'outer')"
   ]
  },
  {
   "cell_type": "code",
   "execution_count": 79,
   "metadata": {},
   "outputs": [
    {
     "data": {
      "text/html": [
       "<div>\n",
       "<style scoped>\n",
       "    .dataframe tbody tr th:only-of-type {\n",
       "        vertical-align: middle;\n",
       "    }\n",
       "\n",
       "    .dataframe tbody tr th {\n",
       "        vertical-align: top;\n",
       "    }\n",
       "\n",
       "    .dataframe thead th {\n",
       "        text-align: right;\n",
       "    }\n",
       "</style>\n",
       "<table border=\"1\" class=\"dataframe\">\n",
       "  <thead>\n",
       "    <tr style=\"text-align: right;\">\n",
       "      <th></th>\n",
       "      <th>page</th>\n",
       "      <th>country</th>\n",
       "      <th>rev_id</th>\n",
       "      <th>prediction</th>\n",
       "    </tr>\n",
       "  </thead>\n",
       "  <tbody>\n",
       "    <tr>\n",
       "      <th>0</th>\n",
       "      <td>Template:ZambiaProvincialMinisters</td>\n",
       "      <td>Zambia</td>\n",
       "      <td>235107991</td>\n",
       "      <td>NaN</td>\n",
       "    </tr>\n",
       "    <tr>\n",
       "      <th>1</th>\n",
       "      <td>Bir I of Kanem</td>\n",
       "      <td>Chad</td>\n",
       "      <td>355319463</td>\n",
       "      <td>Stub</td>\n",
       "    </tr>\n",
       "    <tr>\n",
       "      <th>2</th>\n",
       "      <td>Template:Zimbabwe-politician-stub</td>\n",
       "      <td>Zimbabwe</td>\n",
       "      <td>391862046</td>\n",
       "      <td>Stub</td>\n",
       "    </tr>\n",
       "    <tr>\n",
       "      <th>3</th>\n",
       "      <td>Template:Uganda-politician-stub</td>\n",
       "      <td>Uganda</td>\n",
       "      <td>391862070</td>\n",
       "      <td>Stub</td>\n",
       "    </tr>\n",
       "    <tr>\n",
       "      <th>4</th>\n",
       "      <td>Template:Namibia-politician-stub</td>\n",
       "      <td>Namibia</td>\n",
       "      <td>391862409</td>\n",
       "      <td>Stub</td>\n",
       "    </tr>\n",
       "  </tbody>\n",
       "</table>\n",
       "</div>"
      ],
      "text/plain": [
       "                                 page   country     rev_id prediction\n",
       "0  Template:ZambiaProvincialMinisters    Zambia  235107991        NaN\n",
       "1                      Bir I of Kanem      Chad  355319463       Stub\n",
       "2   Template:Zimbabwe-politician-stub  Zimbabwe  391862046       Stub\n",
       "3     Template:Uganda-politician-stub    Uganda  391862070       Stub\n",
       "4    Template:Namibia-politician-stub   Namibia  391862409       Stub"
      ]
     },
     "execution_count": 79,
     "metadata": {},
     "output_type": "execute_result"
    }
   ],
   "source": [
    "en_wikipedia_bias_data.head()"
   ]
  },
  {
   "cell_type": "markdown",
   "metadata": {},
   "source": [
    "I need to rename `wpds_2018` *Geography* column to *country* to merge this table with the table created above."
   ]
  },
  {
   "cell_type": "code",
   "execution_count": 80,
   "metadata": {},
   "outputs": [],
   "source": [
    "wpds_2018 = wpds_2018.rename(columns = {'Geography': 'country'})"
   ]
  },
  {
   "cell_type": "code",
   "execution_count": 81,
   "metadata": {},
   "outputs": [
    {
     "data": {
      "text/html": [
       "<div>\n",
       "<style scoped>\n",
       "    .dataframe tbody tr th:only-of-type {\n",
       "        vertical-align: middle;\n",
       "    }\n",
       "\n",
       "    .dataframe tbody tr th {\n",
       "        vertical-align: top;\n",
       "    }\n",
       "\n",
       "    .dataframe thead th {\n",
       "        text-align: right;\n",
       "    }\n",
       "</style>\n",
       "<table border=\"1\" class=\"dataframe\">\n",
       "  <thead>\n",
       "    <tr style=\"text-align: right;\">\n",
       "      <th></th>\n",
       "      <th>country</th>\n",
       "      <th>Population mid-2018 (millions)</th>\n",
       "    </tr>\n",
       "  </thead>\n",
       "  <tbody>\n",
       "    <tr>\n",
       "      <th>0</th>\n",
       "      <td>AFRICA</td>\n",
       "      <td>1284.0</td>\n",
       "    </tr>\n",
       "    <tr>\n",
       "      <th>1</th>\n",
       "      <td>Algeria</td>\n",
       "      <td>42.7</td>\n",
       "    </tr>\n",
       "    <tr>\n",
       "      <th>2</th>\n",
       "      <td>Egypt</td>\n",
       "      <td>97.0</td>\n",
       "    </tr>\n",
       "    <tr>\n",
       "      <th>3</th>\n",
       "      <td>Libya</td>\n",
       "      <td>6.5</td>\n",
       "    </tr>\n",
       "    <tr>\n",
       "      <th>4</th>\n",
       "      <td>Morocco</td>\n",
       "      <td>35.2</td>\n",
       "    </tr>\n",
       "  </tbody>\n",
       "</table>\n",
       "</div>"
      ],
      "text/plain": [
       "   country  Population mid-2018 (millions)\n",
       "0   AFRICA                          1284.0\n",
       "1  Algeria                            42.7\n",
       "2    Egypt                            97.0\n",
       "3    Libya                             6.5\n",
       "4  Morocco                            35.2"
      ]
     },
     "execution_count": 81,
     "metadata": {},
     "output_type": "execute_result"
    }
   ],
   "source": [
    "wpds_2018.head()"
   ]
  },
  {
   "cell_type": "markdown",
   "metadata": {},
   "source": [
    "Now I can merge the `wpds_2018` table with `en_wikipedia_bias_data` using *country*"
   ]
  },
  {
   "cell_type": "code",
   "execution_count": 82,
   "metadata": {
    "scrolled": true
   },
   "outputs": [],
   "source": [
    "en_wikipedia_bias_data = pd.merge(en_wikipedia_bias_data, wpds_2018, on = 'country', how = 'outer')"
   ]
  },
  {
   "cell_type": "code",
   "execution_count": 83,
   "metadata": {},
   "outputs": [
    {
     "data": {
      "text/html": [
       "<div>\n",
       "<style scoped>\n",
       "    .dataframe tbody tr th:only-of-type {\n",
       "        vertical-align: middle;\n",
       "    }\n",
       "\n",
       "    .dataframe tbody tr th {\n",
       "        vertical-align: top;\n",
       "    }\n",
       "\n",
       "    .dataframe thead th {\n",
       "        text-align: right;\n",
       "    }\n",
       "</style>\n",
       "<table border=\"1\" class=\"dataframe\">\n",
       "  <thead>\n",
       "    <tr style=\"text-align: right;\">\n",
       "      <th></th>\n",
       "      <th>page</th>\n",
       "      <th>country</th>\n",
       "      <th>rev_id</th>\n",
       "      <th>prediction</th>\n",
       "      <th>Population mid-2018 (millions)</th>\n",
       "    </tr>\n",
       "  </thead>\n",
       "  <tbody>\n",
       "    <tr>\n",
       "      <th>0</th>\n",
       "      <td>Template:ZambiaProvincialMinisters</td>\n",
       "      <td>Zambia</td>\n",
       "      <td>235107991.0</td>\n",
       "      <td>NaN</td>\n",
       "      <td>17.7</td>\n",
       "    </tr>\n",
       "    <tr>\n",
       "      <th>1</th>\n",
       "      <td>Gladys Lundwe</td>\n",
       "      <td>Zambia</td>\n",
       "      <td>757566606.0</td>\n",
       "      <td>Stub</td>\n",
       "      <td>17.7</td>\n",
       "    </tr>\n",
       "    <tr>\n",
       "      <th>2</th>\n",
       "      <td>Mwamba Luchembe</td>\n",
       "      <td>Zambia</td>\n",
       "      <td>764848643.0</td>\n",
       "      <td>Stub</td>\n",
       "      <td>17.7</td>\n",
       "    </tr>\n",
       "    <tr>\n",
       "      <th>3</th>\n",
       "      <td>Thandiwe Banda</td>\n",
       "      <td>Zambia</td>\n",
       "      <td>768166426.0</td>\n",
       "      <td>Start</td>\n",
       "      <td>17.7</td>\n",
       "    </tr>\n",
       "    <tr>\n",
       "      <th>4</th>\n",
       "      <td>Sylvester Chisembele</td>\n",
       "      <td>Zambia</td>\n",
       "      <td>776082926.0</td>\n",
       "      <td>C</td>\n",
       "      <td>17.7</td>\n",
       "    </tr>\n",
       "  </tbody>\n",
       "</table>\n",
       "</div>"
      ],
      "text/plain": [
       "                                 page country       rev_id prediction  \\\n",
       "0  Template:ZambiaProvincialMinisters  Zambia  235107991.0        NaN   \n",
       "1                       Gladys Lundwe  Zambia  757566606.0       Stub   \n",
       "2                     Mwamba Luchembe  Zambia  764848643.0       Stub   \n",
       "3                      Thandiwe Banda  Zambia  768166426.0      Start   \n",
       "4                Sylvester Chisembele  Zambia  776082926.0          C   \n",
       "\n",
       "   Population mid-2018 (millions)  \n",
       "0                            17.7  \n",
       "1                            17.7  \n",
       "2                            17.7  \n",
       "3                            17.7  \n",
       "4                            17.7  "
      ]
     },
     "execution_count": 83,
     "metadata": {},
     "output_type": "execute_result"
    }
   ],
   "source": [
    "en_wikipedia_bias_data.head()"
   ]
  },
  {
   "cell_type": "markdown",
   "metadata": {},
   "source": [
    "Now that I have the data in one one source, I need to remove the rows with *NaN* values. "
   ]
  },
  {
   "cell_type": "code",
   "execution_count": 84,
   "metadata": {},
   "outputs": [],
   "source": [
    "en_wikipedia_bias_data = en_wikipedia_bias_data.dropna().reset_index(drop = True)"
   ]
  },
  {
   "cell_type": "code",
   "execution_count": 85,
   "metadata": {
    "scrolled": true
   },
   "outputs": [
    {
     "data": {
      "text/html": [
       "<div>\n",
       "<style scoped>\n",
       "    .dataframe tbody tr th:only-of-type {\n",
       "        vertical-align: middle;\n",
       "    }\n",
       "\n",
       "    .dataframe tbody tr th {\n",
       "        vertical-align: top;\n",
       "    }\n",
       "\n",
       "    .dataframe thead th {\n",
       "        text-align: right;\n",
       "    }\n",
       "</style>\n",
       "<table border=\"1\" class=\"dataframe\">\n",
       "  <thead>\n",
       "    <tr style=\"text-align: right;\">\n",
       "      <th></th>\n",
       "      <th>page</th>\n",
       "      <th>country</th>\n",
       "      <th>rev_id</th>\n",
       "      <th>prediction</th>\n",
       "      <th>Population mid-2018 (millions)</th>\n",
       "    </tr>\n",
       "  </thead>\n",
       "  <tbody>\n",
       "    <tr>\n",
       "      <th>0</th>\n",
       "      <td>Gladys Lundwe</td>\n",
       "      <td>Zambia</td>\n",
       "      <td>757566606.0</td>\n",
       "      <td>Stub</td>\n",
       "      <td>17.7</td>\n",
       "    </tr>\n",
       "    <tr>\n",
       "      <th>1</th>\n",
       "      <td>Mwamba Luchembe</td>\n",
       "      <td>Zambia</td>\n",
       "      <td>764848643.0</td>\n",
       "      <td>Stub</td>\n",
       "      <td>17.7</td>\n",
       "    </tr>\n",
       "    <tr>\n",
       "      <th>2</th>\n",
       "      <td>Thandiwe Banda</td>\n",
       "      <td>Zambia</td>\n",
       "      <td>768166426.0</td>\n",
       "      <td>Start</td>\n",
       "      <td>17.7</td>\n",
       "    </tr>\n",
       "    <tr>\n",
       "      <th>3</th>\n",
       "      <td>Sylvester Chisembele</td>\n",
       "      <td>Zambia</td>\n",
       "      <td>776082926.0</td>\n",
       "      <td>C</td>\n",
       "      <td>17.7</td>\n",
       "    </tr>\n",
       "    <tr>\n",
       "      <th>4</th>\n",
       "      <td>Victoria Kalima</td>\n",
       "      <td>Zambia</td>\n",
       "      <td>776530837.0</td>\n",
       "      <td>Start</td>\n",
       "      <td>17.7</td>\n",
       "    </tr>\n",
       "  </tbody>\n",
       "</table>\n",
       "</div>"
      ],
      "text/plain": [
       "                   page country       rev_id prediction  \\\n",
       "0         Gladys Lundwe  Zambia  757566606.0       Stub   \n",
       "1       Mwamba Luchembe  Zambia  764848643.0       Stub   \n",
       "2        Thandiwe Banda  Zambia  768166426.0      Start   \n",
       "3  Sylvester Chisembele  Zambia  776082926.0          C   \n",
       "4       Victoria Kalima  Zambia  776530837.0      Start   \n",
       "\n",
       "   Population mid-2018 (millions)  \n",
       "0                            17.7  \n",
       "1                            17.7  \n",
       "2                            17.7  \n",
       "3                            17.7  \n",
       "4                            17.7  "
      ]
     },
     "execution_count": 85,
     "metadata": {},
     "output_type": "execute_result"
    }
   ],
   "source": [
    "en_wikipedia_bias_data.head()"
   ]
  },
  {
   "cell_type": "markdown",
   "metadata": {},
   "source": [
    "Now to match the column title requirments, I need to rename *page* and *prediction*."
   ]
  },
  {
   "cell_type": "code",
   "execution_count": 94,
   "metadata": {},
   "outputs": [],
   "source": [
    "en_wikipedia_bias_data = en_wikipedia_bias_data.rename(columns ={'page' : 'article_name', 'prediction' : 'article_quality'})"
   ]
  },
  {
   "cell_type": "code",
   "execution_count": 95,
   "metadata": {},
   "outputs": [
    {
     "data": {
      "text/html": [
       "<div>\n",
       "<style scoped>\n",
       "    .dataframe tbody tr th:only-of-type {\n",
       "        vertical-align: middle;\n",
       "    }\n",
       "\n",
       "    .dataframe tbody tr th {\n",
       "        vertical-align: top;\n",
       "    }\n",
       "\n",
       "    .dataframe thead th {\n",
       "        text-align: right;\n",
       "    }\n",
       "</style>\n",
       "<table border=\"1\" class=\"dataframe\">\n",
       "  <thead>\n",
       "    <tr style=\"text-align: right;\">\n",
       "      <th></th>\n",
       "      <th>article_name</th>\n",
       "      <th>country</th>\n",
       "      <th>rev_id</th>\n",
       "      <th>article_quality</th>\n",
       "      <th>Population mid-2018 (millions)</th>\n",
       "    </tr>\n",
       "  </thead>\n",
       "  <tbody>\n",
       "    <tr>\n",
       "      <th>0</th>\n",
       "      <td>Gladys Lundwe</td>\n",
       "      <td>Zambia</td>\n",
       "      <td>757566606.0</td>\n",
       "      <td>Stub</td>\n",
       "      <td>17.7</td>\n",
       "    </tr>\n",
       "    <tr>\n",
       "      <th>1</th>\n",
       "      <td>Mwamba Luchembe</td>\n",
       "      <td>Zambia</td>\n",
       "      <td>764848643.0</td>\n",
       "      <td>Stub</td>\n",
       "      <td>17.7</td>\n",
       "    </tr>\n",
       "    <tr>\n",
       "      <th>2</th>\n",
       "      <td>Thandiwe Banda</td>\n",
       "      <td>Zambia</td>\n",
       "      <td>768166426.0</td>\n",
       "      <td>Start</td>\n",
       "      <td>17.7</td>\n",
       "    </tr>\n",
       "    <tr>\n",
       "      <th>3</th>\n",
       "      <td>Sylvester Chisembele</td>\n",
       "      <td>Zambia</td>\n",
       "      <td>776082926.0</td>\n",
       "      <td>C</td>\n",
       "      <td>17.7</td>\n",
       "    </tr>\n",
       "    <tr>\n",
       "      <th>4</th>\n",
       "      <td>Victoria Kalima</td>\n",
       "      <td>Zambia</td>\n",
       "      <td>776530837.0</td>\n",
       "      <td>Start</td>\n",
       "      <td>17.7</td>\n",
       "    </tr>\n",
       "  </tbody>\n",
       "</table>\n",
       "</div>"
      ],
      "text/plain": [
       "           article_name country       rev_id article_quality  \\\n",
       "0         Gladys Lundwe  Zambia  757566606.0            Stub   \n",
       "1       Mwamba Luchembe  Zambia  764848643.0            Stub   \n",
       "2        Thandiwe Banda  Zambia  768166426.0           Start   \n",
       "3  Sylvester Chisembele  Zambia  776082926.0               C   \n",
       "4       Victoria Kalima  Zambia  776530837.0           Start   \n",
       "\n",
       "   Population mid-2018 (millions)  \n",
       "0                            17.7  \n",
       "1                            17.7  \n",
       "2                            17.7  \n",
       "3                            17.7  \n",
       "4                            17.7  "
      ]
     },
     "execution_count": 95,
     "metadata": {},
     "output_type": "execute_result"
    }
   ],
   "source": [
    "en_wikipedia_bias_data.head()"
   ]
  },
  {
   "cell_type": "markdown",
   "metadata": {},
   "source": [
    "Here I save `en_wikipedia_bias_data` to a **.csv** file."
   ]
  },
  {
   "cell_type": "code",
   "execution_count": 96,
   "metadata": {},
   "outputs": [],
   "source": [
    "en_wikipedia_bias_data.to_csv('en-wikipedia_bias_data.csv')"
   ]
  },
  {
   "cell_type": "markdown",
   "metadata": {},
   "source": [
    "## Calculate the proportions of articles by population of country and proportions of high quality articles by country"
   ]
  },
  {
   "cell_type": "markdown",
   "metadata": {},
   "source": [
    "Here I find the proportion of the politician artilces as a proportion of the country's population and the proportion of the high qulaity articles as a proportion of the country's population. High quality artices are articles that ORES predicted as **FA** or **GA** (*featured article* and *good article* respectivly). To do this, I used `DataFrame.groupby`.  \n",
    "\n",
    "See for more details: https://www.shanelynn.ie/summarising-aggregation-and-grouping-data-in-python-pandas/"
   ]
  },
  {
   "cell_type": "code",
   "execution_count": 98,
   "metadata": {},
   "outputs": [],
   "source": [
    "politician_articles_by_population = en_wikipedia_bias_data.groupby(['country', 'Population mid-2018 (millions)'], as_index=False)[['article_quality']].count()"
   ]
  },
  {
   "cell_type": "code",
   "execution_count": 99,
   "metadata": {
    "scrolled": false
   },
   "outputs": [
    {
     "data": {
      "text/html": [
       "<div>\n",
       "<style scoped>\n",
       "    .dataframe tbody tr th:only-of-type {\n",
       "        vertical-align: middle;\n",
       "    }\n",
       "\n",
       "    .dataframe tbody tr th {\n",
       "        vertical-align: top;\n",
       "    }\n",
       "\n",
       "    .dataframe thead th {\n",
       "        text-align: right;\n",
       "    }\n",
       "</style>\n",
       "<table border=\"1\" class=\"dataframe\">\n",
       "  <thead>\n",
       "    <tr style=\"text-align: right;\">\n",
       "      <th></th>\n",
       "      <th>country</th>\n",
       "      <th>Population mid-2018 (millions)</th>\n",
       "      <th>article_quality</th>\n",
       "    </tr>\n",
       "  </thead>\n",
       "  <tbody>\n",
       "    <tr>\n",
       "      <th>0</th>\n",
       "      <td>Afghanistan</td>\n",
       "      <td>36.50</td>\n",
       "      <td>326</td>\n",
       "    </tr>\n",
       "    <tr>\n",
       "      <th>1</th>\n",
       "      <td>Albania</td>\n",
       "      <td>2.90</td>\n",
       "      <td>460</td>\n",
       "    </tr>\n",
       "    <tr>\n",
       "      <th>2</th>\n",
       "      <td>Algeria</td>\n",
       "      <td>42.70</td>\n",
       "      <td>119</td>\n",
       "    </tr>\n",
       "    <tr>\n",
       "      <th>3</th>\n",
       "      <td>Andorra</td>\n",
       "      <td>0.08</td>\n",
       "      <td>34</td>\n",
       "    </tr>\n",
       "    <tr>\n",
       "      <th>4</th>\n",
       "      <td>Angola</td>\n",
       "      <td>30.40</td>\n",
       "      <td>110</td>\n",
       "    </tr>\n",
       "  </tbody>\n",
       "</table>\n",
       "</div>"
      ],
      "text/plain": [
       "       country  Population mid-2018 (millions)  article_quality\n",
       "0  Afghanistan                           36.50              326\n",
       "1      Albania                            2.90              460\n",
       "2      Algeria                           42.70              119\n",
       "3      Andorra                            0.08               34\n",
       "4       Angola                           30.40              110"
      ]
     },
     "execution_count": 99,
     "metadata": {},
     "output_type": "execute_result"
    }
   ],
   "source": [
    "politician_articles_by_population.head()"
   ]
  },
  {
   "cell_type": "markdown",
   "metadata": {},
   "source": [
    "Here I calculate proportion of articles as a function of the population. First I need to change *article_quality* to *count of articles because they way I grouped the rows was by the count of the articles by country."
   ]
  },
  {
   "cell_type": "code",
   "execution_count": 100,
   "metadata": {},
   "outputs": [],
   "source": [
    "politician_articles_by_population = politician_articles_by_population.rename(columns = {'article_quality' : \"count of articles\"})"
   ]
  },
  {
   "cell_type": "code",
   "execution_count": 101,
   "metadata": {
    "scrolled": false
   },
   "outputs": [
    {
     "data": {
      "text/html": [
       "<div>\n",
       "<style scoped>\n",
       "    .dataframe tbody tr th:only-of-type {\n",
       "        vertical-align: middle;\n",
       "    }\n",
       "\n",
       "    .dataframe tbody tr th {\n",
       "        vertical-align: top;\n",
       "    }\n",
       "\n",
       "    .dataframe thead th {\n",
       "        text-align: right;\n",
       "    }\n",
       "</style>\n",
       "<table border=\"1\" class=\"dataframe\">\n",
       "  <thead>\n",
       "    <tr style=\"text-align: right;\">\n",
       "      <th></th>\n",
       "      <th>country</th>\n",
       "      <th>Population mid-2018 (millions)</th>\n",
       "      <th>count of articles</th>\n",
       "    </tr>\n",
       "  </thead>\n",
       "  <tbody>\n",
       "    <tr>\n",
       "      <th>0</th>\n",
       "      <td>Afghanistan</td>\n",
       "      <td>36.50</td>\n",
       "      <td>326</td>\n",
       "    </tr>\n",
       "    <tr>\n",
       "      <th>1</th>\n",
       "      <td>Albania</td>\n",
       "      <td>2.90</td>\n",
       "      <td>460</td>\n",
       "    </tr>\n",
       "    <tr>\n",
       "      <th>2</th>\n",
       "      <td>Algeria</td>\n",
       "      <td>42.70</td>\n",
       "      <td>119</td>\n",
       "    </tr>\n",
       "    <tr>\n",
       "      <th>3</th>\n",
       "      <td>Andorra</td>\n",
       "      <td>0.08</td>\n",
       "      <td>34</td>\n",
       "    </tr>\n",
       "    <tr>\n",
       "      <th>4</th>\n",
       "      <td>Angola</td>\n",
       "      <td>30.40</td>\n",
       "      <td>110</td>\n",
       "    </tr>\n",
       "  </tbody>\n",
       "</table>\n",
       "</div>"
      ],
      "text/plain": [
       "       country  Population mid-2018 (millions)  count of articles\n",
       "0  Afghanistan                           36.50                326\n",
       "1      Albania                            2.90                460\n",
       "2      Algeria                           42.70                119\n",
       "3      Andorra                            0.08                 34\n",
       "4       Angola                           30.40                110"
      ]
     },
     "execution_count": 101,
     "metadata": {},
     "output_type": "execute_result"
    }
   ],
   "source": [
    "politician_articles_by_population.head()"
   ]
  },
  {
   "cell_type": "markdown",
   "metadata": {},
   "source": [
    "Now I need to calculate the proportion of articles."
   ]
  },
  {
   "cell_type": "code",
   "execution_count": 103,
   "metadata": {},
   "outputs": [],
   "source": [
    "politician_articles_by_population['proportion of articles to population (millions)'] = politician_articles_by_population['count of articles'] / politician_articles_by_population['Population mid-2018 (millions)'].astype('float')"
   ]
  },
  {
   "cell_type": "code",
   "execution_count": 104,
   "metadata": {
    "scrolled": true
   },
   "outputs": [
    {
     "data": {
      "text/html": [
       "<div>\n",
       "<style scoped>\n",
       "    .dataframe tbody tr th:only-of-type {\n",
       "        vertical-align: middle;\n",
       "    }\n",
       "\n",
       "    .dataframe tbody tr th {\n",
       "        vertical-align: top;\n",
       "    }\n",
       "\n",
       "    .dataframe thead th {\n",
       "        text-align: right;\n",
       "    }\n",
       "</style>\n",
       "<table border=\"1\" class=\"dataframe\">\n",
       "  <thead>\n",
       "    <tr style=\"text-align: right;\">\n",
       "      <th></th>\n",
       "      <th>country</th>\n",
       "      <th>Population mid-2018 (millions)</th>\n",
       "      <th>count of articles</th>\n",
       "      <th>proportion of articles to population (millions)</th>\n",
       "    </tr>\n",
       "  </thead>\n",
       "  <tbody>\n",
       "    <tr>\n",
       "      <th>0</th>\n",
       "      <td>Afghanistan</td>\n",
       "      <td>36.50</td>\n",
       "      <td>326</td>\n",
       "      <td>8.931507</td>\n",
       "    </tr>\n",
       "    <tr>\n",
       "      <th>1</th>\n",
       "      <td>Albania</td>\n",
       "      <td>2.90</td>\n",
       "      <td>460</td>\n",
       "      <td>158.620690</td>\n",
       "    </tr>\n",
       "    <tr>\n",
       "      <th>2</th>\n",
       "      <td>Algeria</td>\n",
       "      <td>42.70</td>\n",
       "      <td>119</td>\n",
       "      <td>2.786885</td>\n",
       "    </tr>\n",
       "    <tr>\n",
       "      <th>3</th>\n",
       "      <td>Andorra</td>\n",
       "      <td>0.08</td>\n",
       "      <td>34</td>\n",
       "      <td>425.000000</td>\n",
       "    </tr>\n",
       "    <tr>\n",
       "      <th>4</th>\n",
       "      <td>Angola</td>\n",
       "      <td>30.40</td>\n",
       "      <td>110</td>\n",
       "      <td>3.618421</td>\n",
       "    </tr>\n",
       "  </tbody>\n",
       "</table>\n",
       "</div>"
      ],
      "text/plain": [
       "       country  Population mid-2018 (millions)  count of articles  \\\n",
       "0  Afghanistan                           36.50                326   \n",
       "1      Albania                            2.90                460   \n",
       "2      Algeria                           42.70                119   \n",
       "3      Andorra                            0.08                 34   \n",
       "4       Angola                           30.40                110   \n",
       "\n",
       "   proportion of articles to population (millions)  \n",
       "0                                         8.931507  \n",
       "1                                       158.620690  \n",
       "2                                         2.786885  \n",
       "3                                       425.000000  \n",
       "4                                         3.618421  "
      ]
     },
     "execution_count": 104,
     "metadata": {},
     "output_type": "execute_result"
    }
   ],
   "source": [
    "politician_articles_by_population.head()"
   ]
  },
  {
   "cell_type": "markdown",
   "metadata": {},
   "source": [
    "Now I need to calculate the proportion of high quality articles. Remember, high quality articles means they have a rating of **FA** or **GA**."
   ]
  },
  {
   "cell_type": "code",
   "execution_count": 129,
   "metadata": {},
   "outputs": [
    {
     "data": {
      "text/html": [
       "<div>\n",
       "<style scoped>\n",
       "    .dataframe tbody tr th:only-of-type {\n",
       "        vertical-align: middle;\n",
       "    }\n",
       "\n",
       "    .dataframe tbody tr th {\n",
       "        vertical-align: top;\n",
       "    }\n",
       "\n",
       "    .dataframe thead th {\n",
       "        text-align: right;\n",
       "    }\n",
       "</style>\n",
       "<table border=\"1\" class=\"dataframe\">\n",
       "  <thead>\n",
       "    <tr style=\"text-align: right;\">\n",
       "      <th></th>\n",
       "      <th>article_name</th>\n",
       "      <th>country</th>\n",
       "      <th>rev_id</th>\n",
       "      <th>article_quality</th>\n",
       "      <th>Population mid-2018 (millions)</th>\n",
       "    </tr>\n",
       "  </thead>\n",
       "  <tbody>\n",
       "    <tr>\n",
       "      <th>0</th>\n",
       "      <td>Gladys Lundwe</td>\n",
       "      <td>Zambia</td>\n",
       "      <td>757566606.0</td>\n",
       "      <td>Stub</td>\n",
       "      <td>17.7</td>\n",
       "    </tr>\n",
       "    <tr>\n",
       "      <th>1</th>\n",
       "      <td>Mwamba Luchembe</td>\n",
       "      <td>Zambia</td>\n",
       "      <td>764848643.0</td>\n",
       "      <td>Stub</td>\n",
       "      <td>17.7</td>\n",
       "    </tr>\n",
       "    <tr>\n",
       "      <th>2</th>\n",
       "      <td>Thandiwe Banda</td>\n",
       "      <td>Zambia</td>\n",
       "      <td>768166426.0</td>\n",
       "      <td>Start</td>\n",
       "      <td>17.7</td>\n",
       "    </tr>\n",
       "    <tr>\n",
       "      <th>3</th>\n",
       "      <td>Sylvester Chisembele</td>\n",
       "      <td>Zambia</td>\n",
       "      <td>776082926.0</td>\n",
       "      <td>C</td>\n",
       "      <td>17.7</td>\n",
       "    </tr>\n",
       "    <tr>\n",
       "      <th>4</th>\n",
       "      <td>Victoria Kalima</td>\n",
       "      <td>Zambia</td>\n",
       "      <td>776530837.0</td>\n",
       "      <td>Start</td>\n",
       "      <td>17.7</td>\n",
       "    </tr>\n",
       "  </tbody>\n",
       "</table>\n",
       "</div>"
      ],
      "text/plain": [
       "           article_name country       rev_id article_quality  \\\n",
       "0         Gladys Lundwe  Zambia  757566606.0            Stub   \n",
       "1       Mwamba Luchembe  Zambia  764848643.0            Stub   \n",
       "2        Thandiwe Banda  Zambia  768166426.0           Start   \n",
       "3  Sylvester Chisembele  Zambia  776082926.0               C   \n",
       "4       Victoria Kalima  Zambia  776530837.0           Start   \n",
       "\n",
       "   Population mid-2018 (millions)  \n",
       "0                            17.7  \n",
       "1                            17.7  \n",
       "2                            17.7  \n",
       "3                            17.7  \n",
       "4                            17.7  "
      ]
     },
     "execution_count": 129,
     "metadata": {},
     "output_type": "execute_result"
    }
   ],
   "source": [
    "en_wikipedia_bias_data.head()"
   ]
  },
  {
   "cell_type": "markdown",
   "metadata": {},
   "source": [
    "I need to get the counts of **FA** and **GA** articles. "
   ]
  },
  {
   "cell_type": "code",
   "execution_count": 171,
   "metadata": {},
   "outputs": [],
   "source": [
    "fa = en_wikipedia_bias_data['country'][en_wikipedia_bias_data['article_quality'] == \"FA\"].value_counts()\n",
    "ga = en_wikipedia_bias_data['country'][en_wikipedia_bias_data['article_quality'] == \"GA\"].value_counts()"
   ]
  },
  {
   "cell_type": "code",
   "execution_count": 172,
   "metadata": {},
   "outputs": [],
   "source": [
    "fa = pd.DataFrame(fa).reset_index()\n",
    "ga = pd.DataFrame(ga).reset_index()"
   ]
  },
  {
   "cell_type": "code",
   "execution_count": 173,
   "metadata": {},
   "outputs": [
    {
     "data": {
      "text/html": [
       "<div>\n",
       "<style scoped>\n",
       "    .dataframe tbody tr th:only-of-type {\n",
       "        vertical-align: middle;\n",
       "    }\n",
       "\n",
       "    .dataframe tbody tr th {\n",
       "        vertical-align: top;\n",
       "    }\n",
       "\n",
       "    .dataframe thead th {\n",
       "        text-align: right;\n",
       "    }\n",
       "</style>\n",
       "<table border=\"1\" class=\"dataframe\">\n",
       "  <thead>\n",
       "    <tr style=\"text-align: right;\">\n",
       "      <th></th>\n",
       "      <th>index</th>\n",
       "      <th>country</th>\n",
       "    </tr>\n",
       "  </thead>\n",
       "  <tbody>\n",
       "    <tr>\n",
       "      <th>0</th>\n",
       "      <td>Spain</td>\n",
       "      <td>26</td>\n",
       "    </tr>\n",
       "    <tr>\n",
       "      <th>1</th>\n",
       "      <td>Romania</td>\n",
       "      <td>25</td>\n",
       "    </tr>\n",
       "    <tr>\n",
       "      <th>2</th>\n",
       "      <td>United States</td>\n",
       "      <td>23</td>\n",
       "    </tr>\n",
       "    <tr>\n",
       "      <th>3</th>\n",
       "      <td>United Kingdom</td>\n",
       "      <td>15</td>\n",
       "    </tr>\n",
       "    <tr>\n",
       "      <th>4</th>\n",
       "      <td>Australia</td>\n",
       "      <td>12</td>\n",
       "    </tr>\n",
       "  </tbody>\n",
       "</table>\n",
       "</div>"
      ],
      "text/plain": [
       "            index  country\n",
       "0           Spain       26\n",
       "1         Romania       25\n",
       "2   United States       23\n",
       "3  United Kingdom       15\n",
       "4       Australia       12"
      ]
     },
     "execution_count": 173,
     "metadata": {},
     "output_type": "execute_result"
    }
   ],
   "source": [
    "fa.head()"
   ]
  },
  {
   "cell_type": "code",
   "execution_count": 174,
   "metadata": {
    "scrolled": true
   },
   "outputs": [
    {
     "data": {
      "text/html": [
       "<div>\n",
       "<style scoped>\n",
       "    .dataframe tbody tr th:only-of-type {\n",
       "        vertical-align: middle;\n",
       "    }\n",
       "\n",
       "    .dataframe tbody tr th {\n",
       "        vertical-align: top;\n",
       "    }\n",
       "\n",
       "    .dataframe thead th {\n",
       "        text-align: right;\n",
       "    }\n",
       "</style>\n",
       "<table border=\"1\" class=\"dataframe\">\n",
       "  <thead>\n",
       "    <tr style=\"text-align: right;\">\n",
       "      <th></th>\n",
       "      <th>index</th>\n",
       "      <th>country</th>\n",
       "    </tr>\n",
       "  </thead>\n",
       "  <tbody>\n",
       "    <tr>\n",
       "      <th>0</th>\n",
       "      <td>United States</td>\n",
       "      <td>59</td>\n",
       "    </tr>\n",
       "    <tr>\n",
       "      <th>1</th>\n",
       "      <td>United Kingdom</td>\n",
       "      <td>42</td>\n",
       "    </tr>\n",
       "    <tr>\n",
       "      <th>2</th>\n",
       "      <td>Australia</td>\n",
       "      <td>30</td>\n",
       "    </tr>\n",
       "    <tr>\n",
       "      <th>3</th>\n",
       "      <td>China</td>\n",
       "      <td>25</td>\n",
       "    </tr>\n",
       "    <tr>\n",
       "      <th>4</th>\n",
       "      <td>Russia</td>\n",
       "      <td>24</td>\n",
       "    </tr>\n",
       "  </tbody>\n",
       "</table>\n",
       "</div>"
      ],
      "text/plain": [
       "            index  country\n",
       "0   United States       59\n",
       "1  United Kingdom       42\n",
       "2       Australia       30\n",
       "3           China       25\n",
       "4          Russia       24"
      ]
     },
     "execution_count": 174,
     "metadata": {},
     "output_type": "execute_result"
    }
   ],
   "source": [
    "ga.head()"
   ]
  },
  {
   "cell_type": "markdown",
   "metadata": {},
   "source": [
    "I now need to re-name the column titles of the `fa` and `ga` tables so they make sense."
   ]
  },
  {
   "cell_type": "code",
   "execution_count": 175,
   "metadata": {},
   "outputs": [],
   "source": [
    "fa = fa.rename(columns = {'country' : 'count of FA'})\n",
    "ga = ga.rename(columns ={'country' : 'count of GA'})\n",
    "\n",
    "fa = fa.rename(columns = {'index' : 'country'})\n",
    "ga = ga.rename(columns = {'index' : 'country'})"
   ]
  },
  {
   "cell_type": "code",
   "execution_count": 176,
   "metadata": {},
   "outputs": [
    {
     "data": {
      "text/html": [
       "<div>\n",
       "<style scoped>\n",
       "    .dataframe tbody tr th:only-of-type {\n",
       "        vertical-align: middle;\n",
       "    }\n",
       "\n",
       "    .dataframe tbody tr th {\n",
       "        vertical-align: top;\n",
       "    }\n",
       "\n",
       "    .dataframe thead th {\n",
       "        text-align: right;\n",
       "    }\n",
       "</style>\n",
       "<table border=\"1\" class=\"dataframe\">\n",
       "  <thead>\n",
       "    <tr style=\"text-align: right;\">\n",
       "      <th></th>\n",
       "      <th>country</th>\n",
       "      <th>count of FA</th>\n",
       "    </tr>\n",
       "  </thead>\n",
       "  <tbody>\n",
       "    <tr>\n",
       "      <th>0</th>\n",
       "      <td>Spain</td>\n",
       "      <td>26</td>\n",
       "    </tr>\n",
       "    <tr>\n",
       "      <th>1</th>\n",
       "      <td>Romania</td>\n",
       "      <td>25</td>\n",
       "    </tr>\n",
       "    <tr>\n",
       "      <th>2</th>\n",
       "      <td>United States</td>\n",
       "      <td>23</td>\n",
       "    </tr>\n",
       "    <tr>\n",
       "      <th>3</th>\n",
       "      <td>United Kingdom</td>\n",
       "      <td>15</td>\n",
       "    </tr>\n",
       "    <tr>\n",
       "      <th>4</th>\n",
       "      <td>Australia</td>\n",
       "      <td>12</td>\n",
       "    </tr>\n",
       "  </tbody>\n",
       "</table>\n",
       "</div>"
      ],
      "text/plain": [
       "          country  count of FA\n",
       "0           Spain           26\n",
       "1         Romania           25\n",
       "2   United States           23\n",
       "3  United Kingdom           15\n",
       "4       Australia           12"
      ]
     },
     "execution_count": 176,
     "metadata": {},
     "output_type": "execute_result"
    }
   ],
   "source": [
    "fa.head()"
   ]
  },
  {
   "cell_type": "code",
   "execution_count": 177,
   "metadata": {
    "scrolled": true
   },
   "outputs": [
    {
     "data": {
      "text/html": [
       "<div>\n",
       "<style scoped>\n",
       "    .dataframe tbody tr th:only-of-type {\n",
       "        vertical-align: middle;\n",
       "    }\n",
       "\n",
       "    .dataframe tbody tr th {\n",
       "        vertical-align: top;\n",
       "    }\n",
       "\n",
       "    .dataframe thead th {\n",
       "        text-align: right;\n",
       "    }\n",
       "</style>\n",
       "<table border=\"1\" class=\"dataframe\">\n",
       "  <thead>\n",
       "    <tr style=\"text-align: right;\">\n",
       "      <th></th>\n",
       "      <th>country</th>\n",
       "      <th>count of GA</th>\n",
       "    </tr>\n",
       "  </thead>\n",
       "  <tbody>\n",
       "    <tr>\n",
       "      <th>0</th>\n",
       "      <td>United States</td>\n",
       "      <td>59</td>\n",
       "    </tr>\n",
       "    <tr>\n",
       "      <th>1</th>\n",
       "      <td>United Kingdom</td>\n",
       "      <td>42</td>\n",
       "    </tr>\n",
       "    <tr>\n",
       "      <th>2</th>\n",
       "      <td>Australia</td>\n",
       "      <td>30</td>\n",
       "    </tr>\n",
       "    <tr>\n",
       "      <th>3</th>\n",
       "      <td>China</td>\n",
       "      <td>25</td>\n",
       "    </tr>\n",
       "    <tr>\n",
       "      <th>4</th>\n",
       "      <td>Russia</td>\n",
       "      <td>24</td>\n",
       "    </tr>\n",
       "  </tbody>\n",
       "</table>\n",
       "</div>"
      ],
      "text/plain": [
       "          country  count of GA\n",
       "0   United States           59\n",
       "1  United Kingdom           42\n",
       "2       Australia           30\n",
       "3           China           25\n",
       "4          Russia           24"
      ]
     },
     "execution_count": 177,
     "metadata": {},
     "output_type": "execute_result"
    }
   ],
   "source": [
    "ga.head()"
   ]
  },
  {
   "cell_type": "markdown",
   "metadata": {},
   "source": [
    "Now I will create a table of quality articles by country. First I will merge `FA` and `GA` by country."
   ]
  },
  {
   "cell_type": "code",
   "execution_count": 181,
   "metadata": {},
   "outputs": [],
   "source": [
    "merge = pd.merge(fa, ga, on = 'country', how = 'inner')"
   ]
  },
  {
   "cell_type": "code",
   "execution_count": 182,
   "metadata": {
    "scrolled": false
   },
   "outputs": [
    {
     "data": {
      "text/html": [
       "<div>\n",
       "<style scoped>\n",
       "    .dataframe tbody tr th:only-of-type {\n",
       "        vertical-align: middle;\n",
       "    }\n",
       "\n",
       "    .dataframe tbody tr th {\n",
       "        vertical-align: top;\n",
       "    }\n",
       "\n",
       "    .dataframe thead th {\n",
       "        text-align: right;\n",
       "    }\n",
       "</style>\n",
       "<table border=\"1\" class=\"dataframe\">\n",
       "  <thead>\n",
       "    <tr style=\"text-align: right;\">\n",
       "      <th></th>\n",
       "      <th>country</th>\n",
       "      <th>count of FA</th>\n",
       "      <th>count of GA</th>\n",
       "    </tr>\n",
       "  </thead>\n",
       "  <tbody>\n",
       "    <tr>\n",
       "      <th>0</th>\n",
       "      <td>Spain</td>\n",
       "      <td>26</td>\n",
       "      <td>8</td>\n",
       "    </tr>\n",
       "    <tr>\n",
       "      <th>1</th>\n",
       "      <td>Romania</td>\n",
       "      <td>25</td>\n",
       "      <td>15</td>\n",
       "    </tr>\n",
       "    <tr>\n",
       "      <th>2</th>\n",
       "      <td>United States</td>\n",
       "      <td>23</td>\n",
       "      <td>59</td>\n",
       "    </tr>\n",
       "    <tr>\n",
       "      <th>3</th>\n",
       "      <td>United Kingdom</td>\n",
       "      <td>15</td>\n",
       "      <td>42</td>\n",
       "    </tr>\n",
       "    <tr>\n",
       "      <th>4</th>\n",
       "      <td>Australia</td>\n",
       "      <td>12</td>\n",
       "      <td>30</td>\n",
       "    </tr>\n",
       "  </tbody>\n",
       "</table>\n",
       "</div>"
      ],
      "text/plain": [
       "          country  count of FA  count of GA\n",
       "0           Spain           26            8\n",
       "1         Romania           25           15\n",
       "2   United States           23           59\n",
       "3  United Kingdom           15           42\n",
       "4       Australia           12           30"
      ]
     },
     "execution_count": 182,
     "metadata": {},
     "output_type": "execute_result"
    }
   ],
   "source": [
    "merge.head()"
   ]
  },
  {
   "cell_type": "markdown",
   "metadata": {},
   "source": [
    "Now I will create a table of the counts of quality articles by country."
   ]
  },
  {
   "cell_type": "code",
   "execution_count": 186,
   "metadata": {},
   "outputs": [],
   "source": [
    "high_quality_article_counts = pd.DataFrame(merge['country'])"
   ]
  },
  {
   "cell_type": "code",
   "execution_count": 187,
   "metadata": {
    "scrolled": true
   },
   "outputs": [
    {
     "data": {
      "text/html": [
       "<div>\n",
       "<style scoped>\n",
       "    .dataframe tbody tr th:only-of-type {\n",
       "        vertical-align: middle;\n",
       "    }\n",
       "\n",
       "    .dataframe tbody tr th {\n",
       "        vertical-align: top;\n",
       "    }\n",
       "\n",
       "    .dataframe thead th {\n",
       "        text-align: right;\n",
       "    }\n",
       "</style>\n",
       "<table border=\"1\" class=\"dataframe\">\n",
       "  <thead>\n",
       "    <tr style=\"text-align: right;\">\n",
       "      <th></th>\n",
       "      <th>country</th>\n",
       "    </tr>\n",
       "  </thead>\n",
       "  <tbody>\n",
       "    <tr>\n",
       "      <th>0</th>\n",
       "      <td>Spain</td>\n",
       "    </tr>\n",
       "    <tr>\n",
       "      <th>1</th>\n",
       "      <td>Romania</td>\n",
       "    </tr>\n",
       "    <tr>\n",
       "      <th>2</th>\n",
       "      <td>United States</td>\n",
       "    </tr>\n",
       "    <tr>\n",
       "      <th>3</th>\n",
       "      <td>United Kingdom</td>\n",
       "    </tr>\n",
       "    <tr>\n",
       "      <th>4</th>\n",
       "      <td>Australia</td>\n",
       "    </tr>\n",
       "  </tbody>\n",
       "</table>\n",
       "</div>"
      ],
      "text/plain": [
       "          country\n",
       "0           Spain\n",
       "1         Romania\n",
       "2   United States\n",
       "3  United Kingdom\n",
       "4       Australia"
      ]
     },
     "execution_count": 187,
     "metadata": {},
     "output_type": "execute_result"
    }
   ],
   "source": [
    "high_quality_article_counts.head()"
   ]
  },
  {
   "cell_type": "code",
   "execution_count": 188,
   "metadata": {},
   "outputs": [],
   "source": [
    "high_quality_article_counts['count of high quality articles'] = merge['count of FA'] + merge['count of GA']"
   ]
  },
  {
   "cell_type": "code",
   "execution_count": 189,
   "metadata": {
    "scrolled": true
   },
   "outputs": [
    {
     "data": {
      "text/html": [
       "<div>\n",
       "<style scoped>\n",
       "    .dataframe tbody tr th:only-of-type {\n",
       "        vertical-align: middle;\n",
       "    }\n",
       "\n",
       "    .dataframe tbody tr th {\n",
       "        vertical-align: top;\n",
       "    }\n",
       "\n",
       "    .dataframe thead th {\n",
       "        text-align: right;\n",
       "    }\n",
       "</style>\n",
       "<table border=\"1\" class=\"dataframe\">\n",
       "  <thead>\n",
       "    <tr style=\"text-align: right;\">\n",
       "      <th></th>\n",
       "      <th>country</th>\n",
       "      <th>count of high quality articles</th>\n",
       "    </tr>\n",
       "  </thead>\n",
       "  <tbody>\n",
       "    <tr>\n",
       "      <th>0</th>\n",
       "      <td>Spain</td>\n",
       "      <td>34</td>\n",
       "    </tr>\n",
       "    <tr>\n",
       "      <th>1</th>\n",
       "      <td>Romania</td>\n",
       "      <td>40</td>\n",
       "    </tr>\n",
       "    <tr>\n",
       "      <th>2</th>\n",
       "      <td>United States</td>\n",
       "      <td>82</td>\n",
       "    </tr>\n",
       "    <tr>\n",
       "      <th>3</th>\n",
       "      <td>United Kingdom</td>\n",
       "      <td>57</td>\n",
       "    </tr>\n",
       "    <tr>\n",
       "      <th>4</th>\n",
       "      <td>Australia</td>\n",
       "      <td>42</td>\n",
       "    </tr>\n",
       "  </tbody>\n",
       "</table>\n",
       "</div>"
      ],
      "text/plain": [
       "          country  count of high quality articles\n",
       "0           Spain                              34\n",
       "1         Romania                              40\n",
       "2   United States                              82\n",
       "3  United Kingdom                              57\n",
       "4       Australia                              42"
      ]
     },
     "execution_count": 189,
     "metadata": {},
     "output_type": "execute_result"
    }
   ],
   "source": [
    "high_quality_article_counts.head()"
   ]
  },
  {
   "cell_type": "markdown",
   "metadata": {},
   "source": [
    "Now I need to make a table of countries, populations, and the count of high quality articles. I will do this by merging the `politician_articles_by_population` data with the `high_quality_articles_counts`."
   ]
  },
  {
   "cell_type": "code",
   "execution_count": 192,
   "metadata": {},
   "outputs": [],
   "source": [
    "high_quality_politician_articles_by_population = pd.merge(politician_articles_by_population, high_quality_article_counts, on = 'country', how = 'inner')"
   ]
  },
  {
   "cell_type": "code",
   "execution_count": 193,
   "metadata": {
    "scrolled": true
   },
   "outputs": [
    {
     "data": {
      "text/html": [
       "<div>\n",
       "<style scoped>\n",
       "    .dataframe tbody tr th:only-of-type {\n",
       "        vertical-align: middle;\n",
       "    }\n",
       "\n",
       "    .dataframe tbody tr th {\n",
       "        vertical-align: top;\n",
       "    }\n",
       "\n",
       "    .dataframe thead th {\n",
       "        text-align: right;\n",
       "    }\n",
       "</style>\n",
       "<table border=\"1\" class=\"dataframe\">\n",
       "  <thead>\n",
       "    <tr style=\"text-align: right;\">\n",
       "      <th></th>\n",
       "      <th>country</th>\n",
       "      <th>Population mid-2018 (millions)</th>\n",
       "      <th>count of articles</th>\n",
       "      <th>proportion of articles to population (millions)</th>\n",
       "      <th>count of high quality articles</th>\n",
       "    </tr>\n",
       "  </thead>\n",
       "  <tbody>\n",
       "    <tr>\n",
       "      <th>0</th>\n",
       "      <td>Afghanistan</td>\n",
       "      <td>36.5</td>\n",
       "      <td>326</td>\n",
       "      <td>8.931507</td>\n",
       "      <td>10</td>\n",
       "    </tr>\n",
       "    <tr>\n",
       "      <th>1</th>\n",
       "      <td>Argentina</td>\n",
       "      <td>44.5</td>\n",
       "      <td>496</td>\n",
       "      <td>11.146067</td>\n",
       "      <td>15</td>\n",
       "    </tr>\n",
       "    <tr>\n",
       "      <th>2</th>\n",
       "      <td>Armenia</td>\n",
       "      <td>3.0</td>\n",
       "      <td>198</td>\n",
       "      <td>66.000000</td>\n",
       "      <td>5</td>\n",
       "    </tr>\n",
       "    <tr>\n",
       "      <th>3</th>\n",
       "      <td>Australia</td>\n",
       "      <td>24.1</td>\n",
       "      <td>1566</td>\n",
       "      <td>64.979253</td>\n",
       "      <td>42</td>\n",
       "    </tr>\n",
       "    <tr>\n",
       "      <th>4</th>\n",
       "      <td>Benin</td>\n",
       "      <td>11.5</td>\n",
       "      <td>94</td>\n",
       "      <td>8.173913</td>\n",
       "      <td>7</td>\n",
       "    </tr>\n",
       "  </tbody>\n",
       "</table>\n",
       "</div>"
      ],
      "text/plain": [
       "       country  Population mid-2018 (millions)  count of articles  \\\n",
       "0  Afghanistan                            36.5                326   \n",
       "1    Argentina                            44.5                496   \n",
       "2      Armenia                             3.0                198   \n",
       "3    Australia                            24.1               1566   \n",
       "4        Benin                            11.5                 94   \n",
       "\n",
       "   proportion of articles to population (millions)  \\\n",
       "0                                         8.931507   \n",
       "1                                        11.146067   \n",
       "2                                        66.000000   \n",
       "3                                        64.979253   \n",
       "4                                         8.173913   \n",
       "\n",
       "   count of high quality articles  \n",
       "0                              10  \n",
       "1                              15  \n",
       "2                               5  \n",
       "3                              42  \n",
       "4                               7  "
      ]
     },
     "execution_count": 193,
     "metadata": {},
     "output_type": "execute_result"
    }
   ],
   "source": [
    "high_quality_politician_articles_by_population.head()"
   ]
  },
  {
   "cell_type": "markdown",
   "metadata": {},
   "source": [
    "I now need to calculate the proportion of high quality articles by country"
   ]
  },
  {
   "cell_type": "code",
   "execution_count": 194,
   "metadata": {},
   "outputs": [],
   "source": [
    "high_quality_politician_articles_by_population['proportion of high quality articles'] = high_quality_politician_articles_by_population['count of high quality articles'] / high_quality_politician_articles_by_population['count of articles']"
   ]
  },
  {
   "cell_type": "code",
   "execution_count": 195,
   "metadata": {},
   "outputs": [
    {
     "data": {
      "text/html": [
       "<div>\n",
       "<style scoped>\n",
       "    .dataframe tbody tr th:only-of-type {\n",
       "        vertical-align: middle;\n",
       "    }\n",
       "\n",
       "    .dataframe tbody tr th {\n",
       "        vertical-align: top;\n",
       "    }\n",
       "\n",
       "    .dataframe thead th {\n",
       "        text-align: right;\n",
       "    }\n",
       "</style>\n",
       "<table border=\"1\" class=\"dataframe\">\n",
       "  <thead>\n",
       "    <tr style=\"text-align: right;\">\n",
       "      <th></th>\n",
       "      <th>country</th>\n",
       "      <th>Population mid-2018 (millions)</th>\n",
       "      <th>count of articles</th>\n",
       "      <th>proportion of articles to population (millions)</th>\n",
       "      <th>count of high quality articles</th>\n",
       "      <th>proportion of high quality articles</th>\n",
       "    </tr>\n",
       "  </thead>\n",
       "  <tbody>\n",
       "    <tr>\n",
       "      <th>0</th>\n",
       "      <td>Afghanistan</td>\n",
       "      <td>36.5</td>\n",
       "      <td>326</td>\n",
       "      <td>8.931507</td>\n",
       "      <td>10</td>\n",
       "      <td>0.030675</td>\n",
       "    </tr>\n",
       "    <tr>\n",
       "      <th>1</th>\n",
       "      <td>Argentina</td>\n",
       "      <td>44.5</td>\n",
       "      <td>496</td>\n",
       "      <td>11.146067</td>\n",
       "      <td>15</td>\n",
       "      <td>0.030242</td>\n",
       "    </tr>\n",
       "    <tr>\n",
       "      <th>2</th>\n",
       "      <td>Armenia</td>\n",
       "      <td>3.0</td>\n",
       "      <td>198</td>\n",
       "      <td>66.000000</td>\n",
       "      <td>5</td>\n",
       "      <td>0.025253</td>\n",
       "    </tr>\n",
       "    <tr>\n",
       "      <th>3</th>\n",
       "      <td>Australia</td>\n",
       "      <td>24.1</td>\n",
       "      <td>1566</td>\n",
       "      <td>64.979253</td>\n",
       "      <td>42</td>\n",
       "      <td>0.026820</td>\n",
       "    </tr>\n",
       "    <tr>\n",
       "      <th>4</th>\n",
       "      <td>Benin</td>\n",
       "      <td>11.5</td>\n",
       "      <td>94</td>\n",
       "      <td>8.173913</td>\n",
       "      <td>7</td>\n",
       "      <td>0.074468</td>\n",
       "    </tr>\n",
       "  </tbody>\n",
       "</table>\n",
       "</div>"
      ],
      "text/plain": [
       "       country  Population mid-2018 (millions)  count of articles  \\\n",
       "0  Afghanistan                            36.5                326   \n",
       "1    Argentina                            44.5                496   \n",
       "2      Armenia                             3.0                198   \n",
       "3    Australia                            24.1               1566   \n",
       "4        Benin                            11.5                 94   \n",
       "\n",
       "   proportion of articles to population (millions)  \\\n",
       "0                                         8.931507   \n",
       "1                                        11.146067   \n",
       "2                                        66.000000   \n",
       "3                                        64.979253   \n",
       "4                                         8.173913   \n",
       "\n",
       "   count of high quality articles  proportion of high quality articles  \n",
       "0                              10                             0.030675  \n",
       "1                              15                             0.030242  \n",
       "2                               5                             0.025253  \n",
       "3                              42                             0.026820  \n",
       "4                               7                             0.074468  "
      ]
     },
     "execution_count": 195,
     "metadata": {},
     "output_type": "execute_result"
    }
   ],
   "source": [
    "high_quality_politician_articles_by_population.head()"
   ]
  },
  {
   "cell_type": "markdown",
   "metadata": {},
   "source": [
    "## Final Deliverables"
   ]
  },
  {
   "cell_type": "markdown",
   "metadata": {},
   "source": [
    "###  Top 10 ranked countries of proportion of articles by population"
   ]
  },
  {
   "cell_type": "code",
   "execution_count": 202,
   "metadata": {},
   "outputs": [
    {
     "data": {
      "text/html": [
       "<div>\n",
       "<style scoped>\n",
       "    .dataframe tbody tr th:only-of-type {\n",
       "        vertical-align: middle;\n",
       "    }\n",
       "\n",
       "    .dataframe tbody tr th {\n",
       "        vertical-align: top;\n",
       "    }\n",
       "\n",
       "    .dataframe thead th {\n",
       "        text-align: right;\n",
       "    }\n",
       "</style>\n",
       "<table border=\"1\" class=\"dataframe\">\n",
       "  <thead>\n",
       "    <tr style=\"text-align: right;\">\n",
       "      <th></th>\n",
       "      <th>country</th>\n",
       "      <th>Population mid-2018 (millions)</th>\n",
       "      <th>count of articles</th>\n",
       "      <th>proportion of articles to population (millions)</th>\n",
       "    </tr>\n",
       "  </thead>\n",
       "  <tbody>\n",
       "    <tr>\n",
       "      <th>166</th>\n",
       "      <td>Tuvalu</td>\n",
       "      <td>0.01</td>\n",
       "      <td>55</td>\n",
       "      <td>5500.000000</td>\n",
       "    </tr>\n",
       "    <tr>\n",
       "      <th>115</th>\n",
       "      <td>Nauru</td>\n",
       "      <td>0.01</td>\n",
       "      <td>53</td>\n",
       "      <td>5300.000000</td>\n",
       "    </tr>\n",
       "    <tr>\n",
       "      <th>135</th>\n",
       "      <td>San Marino</td>\n",
       "      <td>0.03</td>\n",
       "      <td>82</td>\n",
       "      <td>2733.333333</td>\n",
       "    </tr>\n",
       "    <tr>\n",
       "      <th>108</th>\n",
       "      <td>Monaco</td>\n",
       "      <td>0.04</td>\n",
       "      <td>40</td>\n",
       "      <td>1000.000000</td>\n",
       "    </tr>\n",
       "    <tr>\n",
       "      <th>93</th>\n",
       "      <td>Liechtenstein</td>\n",
       "      <td>0.04</td>\n",
       "      <td>29</td>\n",
       "      <td>725.000000</td>\n",
       "    </tr>\n",
       "    <tr>\n",
       "      <th>161</th>\n",
       "      <td>Tonga</td>\n",
       "      <td>0.10</td>\n",
       "      <td>63</td>\n",
       "      <td>630.000000</td>\n",
       "    </tr>\n",
       "    <tr>\n",
       "      <th>103</th>\n",
       "      <td>Marshall Islands</td>\n",
       "      <td>0.06</td>\n",
       "      <td>37</td>\n",
       "      <td>616.666667</td>\n",
       "    </tr>\n",
       "    <tr>\n",
       "      <th>68</th>\n",
       "      <td>Iceland</td>\n",
       "      <td>0.40</td>\n",
       "      <td>206</td>\n",
       "      <td>515.000000</td>\n",
       "    </tr>\n",
       "    <tr>\n",
       "      <th>3</th>\n",
       "      <td>Andorra</td>\n",
       "      <td>0.08</td>\n",
       "      <td>34</td>\n",
       "      <td>425.000000</td>\n",
       "    </tr>\n",
       "    <tr>\n",
       "      <th>52</th>\n",
       "      <td>Federated States of Micronesia</td>\n",
       "      <td>0.10</td>\n",
       "      <td>38</td>\n",
       "      <td>380.000000</td>\n",
       "    </tr>\n",
       "  </tbody>\n",
       "</table>\n",
       "</div>"
      ],
      "text/plain": [
       "                            country  Population mid-2018 (millions)  \\\n",
       "166                          Tuvalu                            0.01   \n",
       "115                           Nauru                            0.01   \n",
       "135                      San Marino                            0.03   \n",
       "108                          Monaco                            0.04   \n",
       "93                    Liechtenstein                            0.04   \n",
       "161                           Tonga                            0.10   \n",
       "103                Marshall Islands                            0.06   \n",
       "68                          Iceland                            0.40   \n",
       "3                           Andorra                            0.08   \n",
       "52   Federated States of Micronesia                            0.10   \n",
       "\n",
       "     count of articles  proportion of articles to population (millions)  \n",
       "166                 55                                      5500.000000  \n",
       "115                 53                                      5300.000000  \n",
       "135                 82                                      2733.333333  \n",
       "108                 40                                      1000.000000  \n",
       "93                  29                                       725.000000  \n",
       "161                 63                                       630.000000  \n",
       "103                 37                                       616.666667  \n",
       "68                 206                                       515.000000  \n",
       "3                   34                                       425.000000  \n",
       "52                  38                                       380.000000  "
      ]
     },
     "execution_count": 202,
     "metadata": {},
     "output_type": "execute_result"
    }
   ],
   "source": [
    "politician_articles_by_population.sort_values(by = 'proportion of articles to population (millions)', ascending = False).head(10)"
   ]
  },
  {
   "cell_type": "markdown",
   "metadata": {},
   "source": [
    "###  Bottom 10 ranked countries of proportion of articles by population"
   ]
  },
  {
   "cell_type": "code",
   "execution_count": 203,
   "metadata": {},
   "outputs": [
    {
     "data": {
      "text/html": [
       "<div>\n",
       "<style scoped>\n",
       "    .dataframe tbody tr th:only-of-type {\n",
       "        vertical-align: middle;\n",
       "    }\n",
       "\n",
       "    .dataframe tbody tr th {\n",
       "        vertical-align: top;\n",
       "    }\n",
       "\n",
       "    .dataframe thead th {\n",
       "        text-align: right;\n",
       "    }\n",
       "</style>\n",
       "<table border=\"1\" class=\"dataframe\">\n",
       "  <thead>\n",
       "    <tr style=\"text-align: right;\">\n",
       "      <th></th>\n",
       "      <th>country</th>\n",
       "      <th>Population mid-2018 (millions)</th>\n",
       "      <th>count of articles</th>\n",
       "      <th>proportion of articles to population (millions)</th>\n",
       "    </tr>\n",
       "  </thead>\n",
       "  <tbody>\n",
       "    <tr>\n",
       "      <th>69</th>\n",
       "      <td>India</td>\n",
       "      <td>1371.3</td>\n",
       "      <td>986</td>\n",
       "      <td>0.719026</td>\n",
       "    </tr>\n",
       "    <tr>\n",
       "      <th>70</th>\n",
       "      <td>Indonesia</td>\n",
       "      <td>265.2</td>\n",
       "      <td>214</td>\n",
       "      <td>0.806938</td>\n",
       "    </tr>\n",
       "    <tr>\n",
       "      <th>34</th>\n",
       "      <td>China</td>\n",
       "      <td>1393.8</td>\n",
       "      <td>1135</td>\n",
       "      <td>0.814321</td>\n",
       "    </tr>\n",
       "    <tr>\n",
       "      <th>173</th>\n",
       "      <td>Uzbekistan</td>\n",
       "      <td>32.9</td>\n",
       "      <td>29</td>\n",
       "      <td>0.881459</td>\n",
       "    </tr>\n",
       "    <tr>\n",
       "      <th>51</th>\n",
       "      <td>Ethiopia</td>\n",
       "      <td>107.5</td>\n",
       "      <td>105</td>\n",
       "      <td>0.976744</td>\n",
       "    </tr>\n",
       "    <tr>\n",
       "      <th>178</th>\n",
       "      <td>Zambia</td>\n",
       "      <td>17.7</td>\n",
       "      <td>25</td>\n",
       "      <td>1.412429</td>\n",
       "    </tr>\n",
       "    <tr>\n",
       "      <th>82</th>\n",
       "      <td>Korea, North</td>\n",
       "      <td>25.6</td>\n",
       "      <td>39</td>\n",
       "      <td>1.523438</td>\n",
       "    </tr>\n",
       "    <tr>\n",
       "      <th>159</th>\n",
       "      <td>Thailand</td>\n",
       "      <td>66.2</td>\n",
       "      <td>112</td>\n",
       "      <td>1.691843</td>\n",
       "    </tr>\n",
       "    <tr>\n",
       "      <th>13</th>\n",
       "      <td>Bangladesh</td>\n",
       "      <td>166.4</td>\n",
       "      <td>323</td>\n",
       "      <td>1.941106</td>\n",
       "    </tr>\n",
       "    <tr>\n",
       "      <th>112</th>\n",
       "      <td>Mozambique</td>\n",
       "      <td>30.5</td>\n",
       "      <td>60</td>\n",
       "      <td>1.967213</td>\n",
       "    </tr>\n",
       "  </tbody>\n",
       "</table>\n",
       "</div>"
      ],
      "text/plain": [
       "          country  Population mid-2018 (millions)  count of articles  \\\n",
       "69          India                          1371.3                986   \n",
       "70      Indonesia                           265.2                214   \n",
       "34          China                          1393.8               1135   \n",
       "173    Uzbekistan                            32.9                 29   \n",
       "51       Ethiopia                           107.5                105   \n",
       "178        Zambia                            17.7                 25   \n",
       "82   Korea, North                            25.6                 39   \n",
       "159      Thailand                            66.2                112   \n",
       "13     Bangladesh                           166.4                323   \n",
       "112    Mozambique                            30.5                 60   \n",
       "\n",
       "     proportion of articles to population (millions)  \n",
       "69                                          0.719026  \n",
       "70                                          0.806938  \n",
       "34                                          0.814321  \n",
       "173                                         0.881459  \n",
       "51                                          0.976744  \n",
       "178                                         1.412429  \n",
       "82                                          1.523438  \n",
       "159                                         1.691843  \n",
       "13                                          1.941106  \n",
       "112                                         1.967213  "
      ]
     },
     "execution_count": 203,
     "metadata": {},
     "output_type": "execute_result"
    }
   ],
   "source": [
    "politician_articles_by_population.sort_values(by = 'proportion of articles to population (millions)', ascending = True).head(10)"
   ]
  },
  {
   "cell_type": "markdown",
   "metadata": {},
   "source": [
    "### Top 10 ranked countries of high qulaity articles"
   ]
  },
  {
   "cell_type": "code",
   "execution_count": 204,
   "metadata": {
    "scrolled": true
   },
   "outputs": [
    {
     "data": {
      "text/html": [
       "<div>\n",
       "<style scoped>\n",
       "    .dataframe tbody tr th:only-of-type {\n",
       "        vertical-align: middle;\n",
       "    }\n",
       "\n",
       "    .dataframe tbody tr th {\n",
       "        vertical-align: top;\n",
       "    }\n",
       "\n",
       "    .dataframe thead th {\n",
       "        text-align: right;\n",
       "    }\n",
       "</style>\n",
       "<table border=\"1\" class=\"dataframe\">\n",
       "  <thead>\n",
       "    <tr style=\"text-align: right;\">\n",
       "      <th></th>\n",
       "      <th>country</th>\n",
       "      <th>Population mid-2018 (millions)</th>\n",
       "      <th>count of articles</th>\n",
       "      <th>proportion of articles to population (millions)</th>\n",
       "      <th>count of high quality articles</th>\n",
       "      <th>proportion of high quality articles</th>\n",
       "    </tr>\n",
       "  </thead>\n",
       "  <tbody>\n",
       "    <tr>\n",
       "      <th>31</th>\n",
       "      <td>Korea, North</td>\n",
       "      <td>25.6</td>\n",
       "      <td>39</td>\n",
       "      <td>1.523438</td>\n",
       "      <td>7</td>\n",
       "      <td>0.179487</td>\n",
       "    </tr>\n",
       "    <tr>\n",
       "      <th>53</th>\n",
       "      <td>Saudi Arabia</td>\n",
       "      <td>33.4</td>\n",
       "      <td>119</td>\n",
       "      <td>3.562874</td>\n",
       "      <td>16</td>\n",
       "      <td>0.134454</td>\n",
       "    </tr>\n",
       "    <tr>\n",
       "      <th>9</th>\n",
       "      <td>Central African Republic</td>\n",
       "      <td>4.7</td>\n",
       "      <td>68</td>\n",
       "      <td>14.468085</td>\n",
       "      <td>8</td>\n",
       "      <td>0.117647</td>\n",
       "    </tr>\n",
       "    <tr>\n",
       "      <th>51</th>\n",
       "      <td>Romania</td>\n",
       "      <td>19.5</td>\n",
       "      <td>348</td>\n",
       "      <td>17.846154</td>\n",
       "      <td>40</td>\n",
       "      <td>0.114943</td>\n",
       "    </tr>\n",
       "    <tr>\n",
       "      <th>38</th>\n",
       "      <td>Mauritania</td>\n",
       "      <td>4.5</td>\n",
       "      <td>52</td>\n",
       "      <td>11.555556</td>\n",
       "      <td>5</td>\n",
       "      <td>0.096154</td>\n",
       "    </tr>\n",
       "    <tr>\n",
       "      <th>64</th>\n",
       "      <td>United States</td>\n",
       "      <td>328.0</td>\n",
       "      <td>1092</td>\n",
       "      <td>3.329268</td>\n",
       "      <td>82</td>\n",
       "      <td>0.075092</td>\n",
       "    </tr>\n",
       "    <tr>\n",
       "      <th>4</th>\n",
       "      <td>Benin</td>\n",
       "      <td>11.5</td>\n",
       "      <td>94</td>\n",
       "      <td>8.173913</td>\n",
       "      <td>7</td>\n",
       "      <td>0.074468</td>\n",
       "    </tr>\n",
       "    <tr>\n",
       "      <th>65</th>\n",
       "      <td>Vietnam</td>\n",
       "      <td>94.7</td>\n",
       "      <td>191</td>\n",
       "      <td>2.016895</td>\n",
       "      <td>13</td>\n",
       "      <td>0.068063</td>\n",
       "    </tr>\n",
       "    <tr>\n",
       "      <th>63</th>\n",
       "      <td>United Kingdom</td>\n",
       "      <td>66.4</td>\n",
       "      <td>865</td>\n",
       "      <td>13.027108</td>\n",
       "      <td>57</td>\n",
       "      <td>0.065896</td>\n",
       "    </tr>\n",
       "    <tr>\n",
       "      <th>26</th>\n",
       "      <td>Ireland</td>\n",
       "      <td>4.9</td>\n",
       "      <td>381</td>\n",
       "      <td>77.755102</td>\n",
       "      <td>24</td>\n",
       "      <td>0.062992</td>\n",
       "    </tr>\n",
       "  </tbody>\n",
       "</table>\n",
       "</div>"
      ],
      "text/plain": [
       "                     country  Population mid-2018 (millions)  \\\n",
       "31              Korea, North                            25.6   \n",
       "53              Saudi Arabia                            33.4   \n",
       "9   Central African Republic                             4.7   \n",
       "51                   Romania                            19.5   \n",
       "38                Mauritania                             4.5   \n",
       "64             United States                           328.0   \n",
       "4                      Benin                            11.5   \n",
       "65                   Vietnam                            94.7   \n",
       "63            United Kingdom                            66.4   \n",
       "26                   Ireland                             4.9   \n",
       "\n",
       "    count of articles  proportion of articles to population (millions)  \\\n",
       "31                 39                                         1.523438   \n",
       "53                119                                         3.562874   \n",
       "9                  68                                        14.468085   \n",
       "51                348                                        17.846154   \n",
       "38                 52                                        11.555556   \n",
       "64               1092                                         3.329268   \n",
       "4                  94                                         8.173913   \n",
       "65                191                                         2.016895   \n",
       "63                865                                        13.027108   \n",
       "26                381                                        77.755102   \n",
       "\n",
       "    count of high quality articles  proportion of high quality articles  \n",
       "31                               7                             0.179487  \n",
       "53                              16                             0.134454  \n",
       "9                                8                             0.117647  \n",
       "51                              40                             0.114943  \n",
       "38                               5                             0.096154  \n",
       "64                              82                             0.075092  \n",
       "4                                7                             0.074468  \n",
       "65                              13                             0.068063  \n",
       "63                              57                             0.065896  \n",
       "26                              24                             0.062992  "
      ]
     },
     "execution_count": 204,
     "metadata": {},
     "output_type": "execute_result"
    }
   ],
   "source": [
    "high_quality_politician_articles_by_population.sort_values(by = 'proportion of high quality articles', ascending = False).head(10)"
   ]
  },
  {
   "cell_type": "markdown",
   "metadata": {},
   "source": [
    "### Bottom 10 ranked countries of high qulaity articles"
   ]
  },
  {
   "cell_type": "code",
   "execution_count": 206,
   "metadata": {
    "scrolled": true
   },
   "outputs": [
    {
     "data": {
      "text/html": [
       "<div>\n",
       "<style scoped>\n",
       "    .dataframe tbody tr th:only-of-type {\n",
       "        vertical-align: middle;\n",
       "    }\n",
       "\n",
       "    .dataframe tbody tr th {\n",
       "        vertical-align: top;\n",
       "    }\n",
       "\n",
       "    .dataframe thead th {\n",
       "        text-align: right;\n",
       "    }\n",
       "</style>\n",
       "<table border=\"1\" class=\"dataframe\">\n",
       "  <thead>\n",
       "    <tr style=\"text-align: right;\">\n",
       "      <th></th>\n",
       "      <th>country</th>\n",
       "      <th>Population mid-2018 (millions)</th>\n",
       "      <th>count of articles</th>\n",
       "      <th>proportion of articles to population (millions)</th>\n",
       "      <th>count of high quality articles</th>\n",
       "      <th>proportion of high quality articles</th>\n",
       "    </tr>\n",
       "  </thead>\n",
       "  <tbody>\n",
       "    <tr>\n",
       "      <th>43</th>\n",
       "      <td>Nigeria</td>\n",
       "      <td>195.9</td>\n",
       "      <td>682</td>\n",
       "      <td>3.481368</td>\n",
       "      <td>3</td>\n",
       "      <td>0.004399</td>\n",
       "    </tr>\n",
       "    <tr>\n",
       "      <th>28</th>\n",
       "      <td>Italy</td>\n",
       "      <td>60.6</td>\n",
       "      <td>828</td>\n",
       "      <td>13.663366</td>\n",
       "      <td>6</td>\n",
       "      <td>0.007246</td>\n",
       "    </tr>\n",
       "    <tr>\n",
       "      <th>39</th>\n",
       "      <td>Mexico</td>\n",
       "      <td>130.8</td>\n",
       "      <td>1081</td>\n",
       "      <td>8.264526</td>\n",
       "      <td>9</td>\n",
       "      <td>0.008326</td>\n",
       "    </tr>\n",
       "    <tr>\n",
       "      <th>44</th>\n",
       "      <td>Norway</td>\n",
       "      <td>5.3</td>\n",
       "      <td>658</td>\n",
       "      <td>124.150943</td>\n",
       "      <td>6</td>\n",
       "      <td>0.009119</td>\n",
       "    </tr>\n",
       "    <tr>\n",
       "      <th>41</th>\n",
       "      <td>Netherlands</td>\n",
       "      <td>17.2</td>\n",
       "      <td>702</td>\n",
       "      <td>40.813953</td>\n",
       "      <td>8</td>\n",
       "      <td>0.011396</td>\n",
       "    </tr>\n",
       "    <tr>\n",
       "      <th>14</th>\n",
       "      <td>France</td>\n",
       "      <td>65.1</td>\n",
       "      <td>1689</td>\n",
       "      <td>25.944700</td>\n",
       "      <td>20</td>\n",
       "      <td>0.011841</td>\n",
       "    </tr>\n",
       "    <tr>\n",
       "      <th>66</th>\n",
       "      <td>Zimbabwe</td>\n",
       "      <td>14.0</td>\n",
       "      <td>167</td>\n",
       "      <td>11.928571</td>\n",
       "      <td>2</td>\n",
       "      <td>0.011976</td>\n",
       "    </tr>\n",
       "    <tr>\n",
       "      <th>50</th>\n",
       "      <td>Portugal</td>\n",
       "      <td>10.3</td>\n",
       "      <td>323</td>\n",
       "      <td>31.359223</td>\n",
       "      <td>4</td>\n",
       "      <td>0.012384</td>\n",
       "    </tr>\n",
       "    <tr>\n",
       "      <th>59</th>\n",
       "      <td>Sweden</td>\n",
       "      <td>10.2</td>\n",
       "      <td>379</td>\n",
       "      <td>37.156863</td>\n",
       "      <td>5</td>\n",
       "      <td>0.013193</td>\n",
       "    </tr>\n",
       "    <tr>\n",
       "      <th>24</th>\n",
       "      <td>Iran</td>\n",
       "      <td>81.6</td>\n",
       "      <td>826</td>\n",
       "      <td>10.122549</td>\n",
       "      <td>11</td>\n",
       "      <td>0.013317</td>\n",
       "    </tr>\n",
       "  </tbody>\n",
       "</table>\n",
       "</div>"
      ],
      "text/plain": [
       "        country  Population mid-2018 (millions)  count of articles  \\\n",
       "43      Nigeria                           195.9                682   \n",
       "28        Italy                            60.6                828   \n",
       "39       Mexico                           130.8               1081   \n",
       "44       Norway                             5.3                658   \n",
       "41  Netherlands                            17.2                702   \n",
       "14       France                            65.1               1689   \n",
       "66     Zimbabwe                            14.0                167   \n",
       "50     Portugal                            10.3                323   \n",
       "59       Sweden                            10.2                379   \n",
       "24         Iran                            81.6                826   \n",
       "\n",
       "    proportion of articles to population (millions)  \\\n",
       "43                                         3.481368   \n",
       "28                                        13.663366   \n",
       "39                                         8.264526   \n",
       "44                                       124.150943   \n",
       "41                                        40.813953   \n",
       "14                                        25.944700   \n",
       "66                                        11.928571   \n",
       "50                                        31.359223   \n",
       "59                                        37.156863   \n",
       "24                                        10.122549   \n",
       "\n",
       "    count of high quality articles  proportion of high quality articles  \n",
       "43                               3                             0.004399  \n",
       "28                               6                             0.007246  \n",
       "39                               9                             0.008326  \n",
       "44                               6                             0.009119  \n",
       "41                               8                             0.011396  \n",
       "14                              20                             0.011841  \n",
       "66                               2                             0.011976  \n",
       "50                               4                             0.012384  \n",
       "59                               5                             0.013193  \n",
       "24                              11                             0.013317  "
      ]
     },
     "execution_count": 206,
     "metadata": {},
     "output_type": "execute_result"
    }
   ],
   "source": [
    "high_quality_politician_articles_by_population.sort_values(by = 'proportion of high quality articles', ascending = True).head(10)"
   ]
  },
  {
   "cell_type": "markdown",
   "metadata": {},
   "source": [
    "# Writeup"
   ]
  },
  {
   "cell_type": "markdown",
   "metadata": {},
   "source": [
    "While performing this analysis, I notices that some revision of pages did not have ratings. Essentially, the page_data.csv had rev_ids that the **ORES** system did not have page quality predictions for. There were about 47K articles listed in the page_data.csv, but the **ORES** system only output about about 45K predictions from that list. I orignally assumed that the **ORES** system would find all rev_ids, however, this was not the case. This could introduce a form of bias in the results because about 2K pages were able to predict the article quality in **ORES**. What could have happened, is that the rev_id (which is described as the revision id of the latest rev) chagned in such a way that that the article couldn't be found, or mabye the revision was the article being removed.\n",
    "\n",
    "One result I expected to see was the proportion and quality of articles would be higher for English speaking counties, concidering the analysis is on English Wikipedia. The tables however, show that the highest proportion of articles to population is actually countries that have a population less than one million, and I don't believe that English is the national language in those countries. However, English speaking countries do show up on the table of highest quality articles (US and UK fall within the top 10). \n",
    "\n",
    "One thing I also expected to see was that the number of articles would be proportional to the population, you can see it might not be true. Comapre the count of articles to its population of France (25.9) to Mexico (8.26) and the United States (3.33). Fromt the table you can also see that the United States has a much higher populatin than France, yet France has more articles. These could be very specific end cases, and I would need to do more analysis to prove or disprove this.\n",
    "\n",
    "Another result I expected to see is that the proportion of high quality articles would be proportional to the number of articles. You can see that this isn't true. As you can see from the high quality article tables, the highest ranked country, North Korea, has a high quality article count of 7. Where as the United States has a high quality artilce count of 82, but its total article count of 1902. I would expect that the United States would be ranked higher than North Korea. \n",
    "\n",
    "Some sources of bias I would guess are berried within this data could be the accuracy of population counts, access to computers, willingness to publish articles about politicians due to social or cultural pressures, knowledge about world politicans from English Wikipedia article publishers, miss-labling of the catagories of the articles or articles being deleted. These all effect the number of articles published, the quality of the articles published as well as the proportion (especially if the population is inaccuratly reported)."
   ]
  }
 ],
 "metadata": {
  "kernelspec": {
   "display_name": "Python 3",
   "language": "python",
   "name": "python3"
  },
  "language_info": {
   "codemirror_mode": {
    "name": "ipython",
    "version": 3
   },
   "file_extension": ".py",
   "mimetype": "text/x-python",
   "name": "python",
   "nbconvert_exporter": "python",
   "pygments_lexer": "ipython3",
   "version": "3.7.0"
  }
 },
 "nbformat": 4,
 "nbformat_minor": 2
}
